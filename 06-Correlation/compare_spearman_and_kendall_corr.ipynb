{
 "cells": [
  {
   "cell_type": "markdown",
   "id": "784b7caf-6a36-4cdd-ba99-62286a5a57ef",
   "metadata": {},
   "source": [
    "\n",
    "| **Aspect**               | **Spearman Correlation**                                                                                     | **Kendall Tau Correlation**                                                                                  |\n",
    "|--------------------------|-------------------------------------------------------------------------------------------------------------|--------------------------------------------------------------------------------------------------------------|\n",
    "| **Definition**            | Measures the monotonic relationship between two variables by calculating the correlation of their ranks.    | Measures the ordinal association between two variables based on the proportion of concordant and discordant pairs. |\n",
    "| **Calculation**           | Based on the ranks of the variables, using the Pearson formula on ranked data.                             | Based on concordant and discordant pairs in the data.                                                        |\n",
    "| **Interpretation**        | Ranges from -1 to +1, where -1 indicates a perfect negative monotonic relationship, and +1 indicates a perfect positive monotonic relationship. | Ranges from -1 to +1, where -1 indicates a perfect negative ordinal association, and +1 indicates a perfect positive ordinal association. |\n",
    "| **Sensitivity to Outliers**| Moderately sensitive to outliers (depends on rank transformation).                                         | Less sensitive to outliers due to pairwise comparisons rather than rank differences.                         |\n",
    "| **Efficiency for Small Data**| Suitable for large datasets but less efficient for smaller ones.                                         | More reliable for smaller datasets due to direct pairwise comparisons.                                       |\n",
    "| **Ease of Calculation**   | Relatively easier to compute as it relies on rank transformations.                                         | Computationally intensive for large datasets due to pairwise comparisons.                                    |\n",
    "| **Handling of Ties**      | Handles ties but assumes tied ranks have equal rank averages.                                              | Handles ties better, as it directly considers them during pairwise comparisons.                              |\n",
    "| **Assumption of Data**    | Does not assume normal distribution.                                                                      | Does not assume normal distribution and can handle ordinal data.                                             |\n",
    "| **Data Type**             | Suitable for ordinal, interval, or ratio data.                                                            | Best suited for ordinal data but also works with interval or ratio data.                                     |\n",
    "| **Type of Relationship**  | Measures monotonic relationships (linear or non-linear).                                                  | Measures monotonic relationships, specifically ordinal associations.                                         |\n"
   ]
  },
  {
   "cell_type": "code",
   "execution_count": null,
   "id": "52b89f0c-a309-4204-aecd-1d95b911e121",
   "metadata": {},
   "outputs": [],
   "source": []
  }
 ],
 "metadata": {
  "kernelspec": {
   "display_name": "Python 3 (ipykernel)",
   "language": "python",
   "name": "python3"
  },
  "language_info": {
   "codemirror_mode": {
    "name": "ipython",
    "version": 3
   },
   "file_extension": ".py",
   "mimetype": "text/x-python",
   "name": "python",
   "nbconvert_exporter": "python",
   "pygments_lexer": "ipython3",
   "version": "3.12.7"
  }
 },
 "nbformat": 4,
 "nbformat_minor": 5
}
