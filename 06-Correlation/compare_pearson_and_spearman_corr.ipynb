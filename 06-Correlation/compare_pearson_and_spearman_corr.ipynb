{
 "cells": [
  {
   "cell_type": "markdown",
   "id": "1d3961ae-b678-47d4-9a10-b9e87be600a4",
   "metadata": {},
   "source": [
    "# Comparison of Pearson and Spearman Correlation\n",
    "\n",
    "| **Aspect**                | **Pearson Correlation**                                         | **Spearman Correlation**                                      |\n",
    "|---------------------------|-----------------------------------------------------------------|---------------------------------------------------------------|\n",
    "| **Definition**             | Measures the linear relationship between two continuous variables. | Measures the monotonic relationship between two variables, which can be either linear or non-linear. |\n",
    "| **Assumption of Data**     | Assumes that the data is normally distributed.                 | Does not assume normal distribution. Can be used with ranked data. |\n",
    "| **Type of Relationship**   | Measures only linear relationships (straight-line).            | Measures any monotonic relationship (either increasing or decreasing). |\n",
    "| **Data Type**              | Requires continuous data and interval or ratio scale.         | Can be used with ordinal, interval, or ratio data. Can also handle tied ranks. |\n",
    "| **Sensitivity to Outliers**| Sensitive to outliers, as outliers can significantly affect the correlation. | Less sensitive to outliers because it only considers the ranks of the values, not their actual values. |\n",
    "| **Range**                  | Ranges from -1 to +1, where -1 indicates perfect negative linear correlation, 0 indicates no linear correlation, and +1 indicates perfect positive linear correlation. | Ranges from -1 to +1, where -1 indicates perfect negative monotonic correlation, 0 indicates no monotonic correlation, and +1 indicates perfect positive monotonic correlation. |\n",
    "| **Calculation Method**     | Based on covariance between the variables. Uses actual data values. | Based on the ranks of the data values. Uses the differences between ranks. |\n",
    "| **Interpretation**         | A higher positive or negative value indicates a stronger linear relationship. | A higher positive or negative value indicates a stronger monotonic relationship (increasing or decreasing). |\n",
    "\n",
    "## When to Use Pearson Correlation:\n",
    "- **When the relationship is linear**: Pearson correlation is appropriate when you believe there is a straight-line (linear) relationship between the variables.\n",
    "- **When the data is continuous and normally distributed**: Pearson assumes that both variables are normally distributed and are measured on an interval or ratio scale.\n",
    "- **When you need a measure of linear dependence**: Pearson gives you a quantitative measure of the degree of linear relationship between two variables.\n",
    "\n",
    "## When to Use Spearman Correlation:\n",
    "- **When the relationship is monotonic**: Use Spearman when you suspect a monotonic relationship (i.e., as one variable increases, the other variable either consistently increases or decreases, but not necessarily in a linear fashion).\n",
    "- **When the data is not normally distributed**: Spearman correlation does not require the data to be normally distributed, making it more appropriate for skewed data.\n",
    "- **When the data is ordinal**: If the variables are measured on an ordinal scale (e.g., rankings), Spearman correlation is more appropriate because it works with ranked data rather than raw values.\n",
    "- **When there are outliers**: Spearman correlation is less sensitive to outliers because it uses ranks instead of actual data values. So, if your dataset contains significant outliers, Spearman is a better choice.\n",
    "\n",
    "## Summary of Usage:\n",
    "\n",
    "- **Use Pearson** when:\n",
    "  - You need to measure the strength and direction of a linear relationship.\n",
    "  - The data is continuous, normally distributed, and you are looking for a linear association.\n",
    "  \n",
    "- **Use Spearman** when:\n",
    "  - You are dealing with non-linear but monotonic relationships.\n",
    "  - The data is not normally distributed or is ordinal in nature.\n",
    "  - You want a correlation measure that is less sensitive to outliers.\n",
    "\n",
    "## Conclusion:\n",
    "\n",
    "- **Pearson** is powerful for analyzing linear relationships and is the preferred method when assumptions (such as normality and linearity) are met.\n",
    "- **Spearman** is more robust, suitable for non-linear relationships, and works better with non-parametric or ordinal data.\n"
   ]
  },
  {
   "cell_type": "code",
   "execution_count": null,
   "id": "d665f17e-87f9-4c3f-a8be-fe414f5b6ca3",
   "metadata": {},
   "outputs": [],
   "source": []
  }
 ],
 "metadata": {
  "kernelspec": {
   "display_name": "Python 3 (ipykernel)",
   "language": "python",
   "name": "python3"
  },
  "language_info": {
   "codemirror_mode": {
    "name": "ipython",
    "version": 3
   },
   "file_extension": ".py",
   "mimetype": "text/x-python",
   "name": "python",
   "nbconvert_exporter": "python",
   "pygments_lexer": "ipython3",
   "version": "3.12.7"
  }
 },
 "nbformat": 4,
 "nbformat_minor": 5
}
