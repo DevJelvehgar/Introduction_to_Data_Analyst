{
 "cells": [
  {
   "cell_type": "markdown",
   "id": "c470bc06-ae4a-4861-8b58-00261617fafb",
   "metadata": {},
   "source": [
    "# Find and Remove Outliers\n",
    "As a data analyst, handling outliers is a critical step in the data preprocessing phase. Outliers are data points that significantly differ from the majority of your dataset. These can arise due to errors, rare events, or natural variability. Here's how to find and remove outliers:"
   ]
  },
  {
   "cell_type": "markdown",
   "id": "e36fa0c1-5bf2-430b-b907-5cdf5234a661",
   "metadata": {},
   "source": [
    "### Step 1: Understand Outliers\n",
    "Definition: An outlier is a data point that lies far outside the typical range of values.\n",
    "#### Sources:\n",
    "Data entry errors<br>\n",
    "Measurement errors<br>\n",
    "Genuine rare events<br>\n",
    "#### Impact:\n",
    "Skew the mean<br>\n",
    "Affect model accuracy and performance<br>"
   ]
  },
  {
   "cell_type": "markdown",
   "id": "6a88e51f-83d4-4b63-862a-f80912fac1cb",
   "metadata": {},
   "source": [
    "### Step 2: Techniques to Detect Outliers\n",
    "#### 1. Visual Inspection\n",
    "**Boxplot:**<br>\n",
    "Outliers appear as points outside the whiskers of the boxplot."
   ]
  },
  {
   "cell_type": "code",
   "execution_count": 87,
   "id": "cda59ebd-f737-4204-b330-b57fa2ee4bd4",
   "metadata": {},
   "outputs": [
    {
     "data": {
      "image/png": "[encoded data removed]",
      "text/plain": [
       "<Figure size 640x480 with 1 Axes>"
      ]
     },
     "metadata": {},
     "output_type": "display_data"
    }
   ],
   "source": [
    "# Python Code Example\n",
    "import pandas as pd\n",
    "import matplotlib.pyplot as plt\n",
    "\n",
    "data = pd.DataFrame({\n",
    "    \"Value\" : [-10,1,4,5,6,7,8,12,14,32,33]\n",
    "})\n",
    "\n",
    "plt.boxplot(data[\"Value\"])\n",
    "plt.title(\"Boxplot for Outlier Detection\")\n",
    "plt.show()"
   ]
  },
  {
   "cell_type": "markdown",
   "id": "def8b94c-b895-44cf-a93d-14aa38acf841",
   "metadata": {},
   "source": [
    "#### 2. Statistical Methods\n",
    "\n",
    "**Z-Score:**<br>\n",
    "Measures how far a point is from the mean in terms of standard deviations.<br>\n"
   ]
  },
  {
   "cell_type": "code",
   "execution_count": 52,
   "id": "08140f08-823d-452e-8f14-a76a17e449c8",
   "metadata": {},
   "outputs": [
    {
     "data": {
      "text/html": [
       "<div>\n",
       "<style scoped>\n",
       "    .dataframe tbody tr th:only-of-type {\n",
       "        vertical-align: middle;\n",
       "    }\n",
       "\n",
       "    .dataframe tbody tr th {\n",
       "        vertical-align: top;\n",
       "    }\n",
       "\n",
       "    .dataframe thead th {\n",
       "        text-align: right;\n",
       "    }\n",
       "</style>\n",
       "<table border=\"1\" class=\"dataframe\">\n",
       "  <thead>\n",
       "    <tr style=\"text-align: right;\">\n",
       "      <th></th>\n",
       "      <th>Value</th>\n",
       "      <th>Z_Score</th>\n",
       "    </tr>\n",
       "  </thead>\n",
       "  <tbody>\n",
       "    <tr>\n",
       "      <th>0</th>\n",
       "      <td>-10</td>\n",
       "      <td>-1.671490</td>\n",
       "    </tr>\n",
       "    <tr>\n",
       "      <th>9</th>\n",
       "      <td>32</td>\n",
       "      <td>1.807016</td>\n",
       "    </tr>\n",
       "    <tr>\n",
       "      <th>10</th>\n",
       "      <td>33</td>\n",
       "      <td>1.889837</td>\n",
       "    </tr>\n",
       "  </tbody>\n",
       "</table>\n",
       "</div>"
      ],
      "text/plain": [
       "    Value   Z_Score\n",
       "0     -10 -1.671490\n",
       "9      32  1.807016\n",
       "10     33  1.889837"
      ]
     },
     "execution_count": 52,
     "metadata": {},
     "output_type": "execute_result"
    }
   ],
   "source": [
    "from scipy.stats import zscore\n",
    "\n",
    "data[\"Z_Score\"] = zscore(data[\"Value\"])\n",
    "outliers = data[data[\"Z_Score\"].abs() > 1]\n",
    "outliers"
   ]
  },
  {
   "cell_type": "markdown",
   "id": "c46db699-9f28-4de6-aaee-9ee3c4273432",
   "metadata": {},
   "source": [
    "#### IQR (Interquartile Range):\n",
    "Identifies outliers as points outside 1.5 times the IQR from the quartiles."
   ]
  },
  {
   "cell_type": "code",
   "execution_count": 77,
   "id": "9adfac0a-b3ed-4cf9-84cf-b0ad2aed5e0e",
   "metadata": {},
   "outputs": [
    {
     "name": "stdout",
     "output_type": "stream",
     "text": [
      "-8.25\n",
      "25.75\n"
     ]
    },
    {
     "data": {
      "text/html": [
       "<div>\n",
       "<style scoped>\n",
       "    .dataframe tbody tr th:only-of-type {\n",
       "        vertical-align: middle;\n",
       "    }\n",
       "\n",
       "    .dataframe tbody tr th {\n",
       "        vertical-align: top;\n",
       "    }\n",
       "\n",
       "    .dataframe thead th {\n",
       "        text-align: right;\n",
       "    }\n",
       "</style>\n",
       "<table border=\"1\" class=\"dataframe\">\n",
       "  <thead>\n",
       "    <tr style=\"text-align: right;\">\n",
       "      <th></th>\n",
       "      <th>Value</th>\n",
       "      <th>Z_Score</th>\n",
       "    </tr>\n",
       "  </thead>\n",
       "  <tbody>\n",
       "    <tr>\n",
       "      <th>0</th>\n",
       "      <td>-10</td>\n",
       "      <td>-1.671490</td>\n",
       "    </tr>\n",
       "    <tr>\n",
       "      <th>9</th>\n",
       "      <td>32</td>\n",
       "      <td>1.807016</td>\n",
       "    </tr>\n",
       "    <tr>\n",
       "      <th>10</th>\n",
       "      <td>33</td>\n",
       "      <td>1.889837</td>\n",
       "    </tr>\n",
       "  </tbody>\n",
       "</table>\n",
       "</div>"
      ],
      "text/plain": [
       "    Value   Z_Score\n",
       "0     -10 -1.671490\n",
       "9      32  1.807016\n",
       "10     33  1.889837"
      ]
     },
     "execution_count": 77,
     "metadata": {},
     "output_type": "execute_result"
    }
   ],
   "source": [
    "import numpy as np\n",
    "q1 = np.percentile(data[\"Value\"], 25)\n",
    "q3 = np.percentile(data[\"Value\"], 75)\n",
    "IQR = q3 - q1\n",
    "\n",
    "lower_bound = q1 - 1.5*(IQR)\n",
    "higher_bound = q3 + 1.5*(IQR)\n",
    "print(lower_bound)\n",
    "print(higher_bound)\n",
    "outliers = data[(data[\"Value\"] < lower_bound) | (data[\"Value\"] > higher_bound)]\n",
    "outliers"
   ]
  },
  {
   "cell_type": "markdown",
   "id": "1f82ecc5-4da6-4843-a699-1b44730346f2",
   "metadata": {},
   "source": [
    "### Step 3: Handling Outliers\n",
    "#### 1. Remove Outliers\n",
    "Simply filter out rows identified as outliers."
   ]
  },
  {
   "cell_type": "code",
   "execution_count": 68,
   "id": "e3a7dd89-97f6-4e3c-8e9f-ece308eb8fec",
   "metadata": {},
   "outputs": [
    {
     "data": {
      "text/html": [
       "<div>\n",
       "<style scoped>\n",
       "    .dataframe tbody tr th:only-of-type {\n",
       "        vertical-align: middle;\n",
       "    }\n",
       "\n",
       "    .dataframe tbody tr th {\n",
       "        vertical-align: top;\n",
       "    }\n",
       "\n",
       "    .dataframe thead th {\n",
       "        text-align: right;\n",
       "    }\n",
       "</style>\n",
       "<table border=\"1\" class=\"dataframe\">\n",
       "  <thead>\n",
       "    <tr style=\"text-align: right;\">\n",
       "      <th></th>\n",
       "      <th>Value</th>\n",
       "      <th>Z_Score</th>\n",
       "    </tr>\n",
       "  </thead>\n",
       "  <tbody>\n",
       "    <tr>\n",
       "      <th>1</th>\n",
       "      <td>1</td>\n",
       "      <td>-0.760452</td>\n",
       "    </tr>\n",
       "    <tr>\n",
       "      <th>2</th>\n",
       "      <td>4</td>\n",
       "      <td>-0.511988</td>\n",
       "    </tr>\n",
       "    <tr>\n",
       "      <th>3</th>\n",
       "      <td>5</td>\n",
       "      <td>-0.429166</td>\n",
       "    </tr>\n",
       "    <tr>\n",
       "      <th>4</th>\n",
       "      <td>6</td>\n",
       "      <td>-0.346345</td>\n",
       "    </tr>\n",
       "    <tr>\n",
       "      <th>5</th>\n",
       "      <td>7</td>\n",
       "      <td>-0.263523</td>\n",
       "    </tr>\n",
       "    <tr>\n",
       "      <th>6</th>\n",
       "      <td>8</td>\n",
       "      <td>-0.180702</td>\n",
       "    </tr>\n",
       "    <tr>\n",
       "      <th>7</th>\n",
       "      <td>12</td>\n",
       "      <td>0.150585</td>\n",
       "    </tr>\n",
       "    <tr>\n",
       "      <th>8</th>\n",
       "      <td>14</td>\n",
       "      <td>0.316228</td>\n",
       "    </tr>\n",
       "  </tbody>\n",
       "</table>\n",
       "</div>"
      ],
      "text/plain": [
       "   Value   Z_Score\n",
       "1      1 -0.760452\n",
       "2      4 -0.511988\n",
       "3      5 -0.429166\n",
       "4      6 -0.346345\n",
       "5      7 -0.263523\n",
       "6      8 -0.180702\n",
       "7     12  0.150585\n",
       "8     14  0.316228"
      ]
     },
     "execution_count": 68,
     "metadata": {},
     "output_type": "execute_result"
    }
   ],
   "source": [
    "clean_data = data[(data[\"Value\"] >= lower_bound) & (data[\"Value\"] <= higher_bound)]\n",
    "clean_data"
   ]
  },
  {
   "cell_type": "code",
   "execution_count": null,
   "id": "fa608aa5-a99a-40a7-909a-2c7404c1ba9e",
   "metadata": {},
   "outputs": [],
   "source": []
  }
 ],
 "metadata": {
  "kernelspec": {
   "display_name": "Python 3 (ipykernel)",
   "language": "python",
   "name": "python3"
  },
  "language_info": {
   "codemirror_mode": {
    "name": "ipython",
    "version": 3
   },
   "file_extension": ".py",
   "mimetype": "text/x-python",
   "name": "python",
   "nbconvert_exporter": "python",
   "pygments_lexer": "ipython3",
   "version": "3.12.7"
  }
 },
 "nbformat": 4,
 "nbformat_minor": 5
}
