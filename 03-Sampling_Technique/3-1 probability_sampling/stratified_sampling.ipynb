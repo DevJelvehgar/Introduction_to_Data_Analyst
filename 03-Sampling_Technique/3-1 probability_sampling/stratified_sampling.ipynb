{
 "cells": [
  {
   "cell_type": "markdown",
   "id": "6114ea10-b2a1-49ec-bf0b-ef11d2060fda",
   "metadata": {},
   "source": [
    "## What is Stratified Sampling in Data Analysis?\n",
    "Stratified Sampling is a probability sampling technique where the population is divided into distinct subgroups, called strata, based on shared characteristics. Samples are then randomly selected from each stratum in proportion to the stratum's size in the population. This ensures that the sample represents all significant subgroups within the population.\n",
    "\n",
    "#### Key Steps in Stratified Sampling\n",
    "1. **Divide the Population into Strata:** Group individuals based on shared characteristics, such as age, gender, income level, etc.\n",
    "2. **Determine the Sample Size for Each Stratum:** Decide how many samples should come from each stratum, often proportional to the size of the stratum in the overall population.\n",
    "3. **Randomly Sample Within Each Stratum:** Randomly select the required number of samples from each group.\n"
   ]
  },
  {
   "cell_type": "markdown",
   "id": "1c6f5661-db2a-42fd-bb18-7537ccea914a",
   "metadata": {},
   "source": [
    "#### Advantages of Stratified Sampling\n",
    "1. **Improved Representation:** Ensures all subgroups are proportionally represented, reducing bias.\n",
    "2. **Greater Precision:** Reduces sampling error compared to simple random sampling, especially in heterogeneous populations.\n",
    "3. **Effective for Subgroup Analysis:** Facilitates more accurate insights into individual subgroups, which is helpful for targeted analysis.\n",
    "4. **Flexibility:** Strata can be customized based on the research question or population characteristics."
   ]
  },
  {
   "cell_type": "markdown",
   "id": "6725665d-0537-454d-93cb-3c4a789434af",
   "metadata": {},
   "source": [
    "#### Disadvantages of Stratified Sampling\n",
    "1. **Complexity:** Dividing the population into strata requires additional effort and knowledge about the population.\n",
    "2. **Requires Population Information:** A complete understanding of the population characteristics is essential to define the strata effectively.\n",
    "3. **Smaller Sample Sizes for Strata:** If strata are too small, it may limit the reliability of statistical analysis for those subgroups.\n",
    "4. **Time-Consuming:** Identifying strata and ensuring proportional representation takes more time than simple random sampling."
   ]
  },
  {
   "cell_type": "markdown",
   "id": "24d05ed9-9238-4a25-8a6b-2208083a6775",
   "metadata": {},
   "source": [
    "#### When to Use Stratified Sampling\n",
    "1. Population Diversity: When the population is diverse, and different subgroups must be represented proportionally.\n",
    "2. Subgroup Analysis: When insights into specific subgroups are required (e.g., analyzing the impact of a product by gender or income level).\n",
    "3. Avoiding Bias: To ensure that small but significant subgroups (e.g., minority groups) are not underrepresented.\n",
    "4. Resource Allocation: When you want to focus resources on specific groups while maintaining a representative sample."
   ]
  },
  {
   "cell_type": "markdown",
   "id": "4fba2e7b-9f13-40c6-983a-6486655d1381",
   "metadata": {},
   "source": [
    "#### Python Code Example\n",
    "##### Scenario:\n",
    "You have a dataset of 1000 individuals, categorized by gender, and you want to ensure that the sample maintains the same proportion of males and females as the original population."
   ]
  },
  {
   "cell_type": "code",
   "execution_count": 7,
   "id": "89b8d02b-c261-4c73-b2f9-057006c698d2",
   "metadata": {},
   "outputs": [],
   "source": [
    "import numpy as np\n",
    "import pandas as pd"
   ]
  },
  {
   "cell_type": "code",
   "execution_count": 158,
   "id": "00925433-efda-42e4-98af-6a049299832b",
   "metadata": {},
   "outputs": [],
   "source": [
    "population = pd.DataFrame({\n",
    "    \"ID\" : range(1,1001),\n",
    "    \"Gender\" : np.random.choice([\"Male\", \"Female\"], size=1000, p=[0.6, 0.4]),\n",
    "    \"Age\" : np.random.randint(18, 60, size=1000)\n",
    "})"
   ]
  },
  {
   "cell_type": "code",
   "execution_count": 203,
   "id": "80aa0801-6c9a-4865-84d3-5fa6d4c33c63",
   "metadata": {},
   "outputs": [
    {
     "name": "stdout",
     "output_type": "stream",
     "text": [
      "Gender\n",
      "Male      60\n",
      "Female    40\n",
      "Name: count, dtype: int64\n"
     ]
    }
   ],
   "source": [
    "def stratified_sampling(df, stratify_column, n_sample, random_state=None):\n",
    "    \n",
    "    # give a proportion of male and female like: Male 0.6 and Female 0.4\n",
    "    proportion = df[stratify_column].value_counts(normalize=True)\n",
    "  \n",
    "    # convert proportion into count we want to fit the proportion of sample data and population like Males 60 and Females 40\n",
    "    strata_counts = (proportion * n_sample).round().astype(int)\n",
    "\n",
    "    \n",
    "    stratified_samples = []\n",
    "    for stratum, count in strata_counts.items():\n",
    "        # if column name = male generated n=60 sample for us , and if column name = Female generated n=40 for us\n",
    "        stratified_samples.append(\n",
    "            df[df[stratify_column] == stratum].sample(n=count, random_state=random_state)\n",
    "        )\n",
    "        \n",
    "    # Combine all sampled strata\n",
    "    return pd.concat(stratified_samples)\n",
    "\n",
    "\n",
    "sample_data = stratified_sampling(population, stratify_column=\"Gender\", n_sample=100, random_state=42)\n",
    "print(sample_data[\"Gender\"].value_counts())"
   ]
  },
  {
   "cell_type": "code",
   "execution_count": null,
   "id": "82da619f-dbe4-436d-90eb-7afb6d987858",
   "metadata": {},
   "outputs": [],
   "source": []
  }
 ],
 "metadata": {
  "kernelspec": {
   "display_name": "Python 3 (ipykernel)",
   "language": "python",
   "name": "python3"
  },
  "language_info": {
   "codemirror_mode": {
    "name": "ipython",
    "version": 3
   },
   "file_extension": ".py",
   "mimetype": "text/x-python",
   "name": "python",
   "nbconvert_exporter": "python",
   "pygments_lexer": "ipython3",
   "version": "3.12.7"
  }
 },
 "nbformat": 4,
 "nbformat_minor": 5
}
