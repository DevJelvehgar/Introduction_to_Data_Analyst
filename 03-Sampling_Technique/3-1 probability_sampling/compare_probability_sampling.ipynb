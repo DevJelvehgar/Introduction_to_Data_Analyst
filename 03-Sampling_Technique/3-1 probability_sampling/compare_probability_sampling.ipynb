{
 "cells": [
  {
   "cell_type": "markdown",
   "id": "bc0235d7-efd3-4f3c-98d5-f374c616ed54",
   "metadata": {},
   "source": [
    "| **Sampling Method**       | **Description**                                                                 | **Pros**                                                                                          | **Cons**                                                                                              | **When to Use**                                                                                      |\n",
    "|----------------------------|---------------------------------------------------------------------------------|---------------------------------------------------------------------------------------------------|-------------------------------------------------------------------------------------------------------|-------------------------------------------------------------------------------------------------------|\n",
    "| **Simple Random Sampling** | Every individual in the population has an equal chance of being selected.       | - Minimizes bias<br>- Easy to understand and implement                                            | - Requires a complete list of the population<br>- Can be time-consuming for large populations         | When population is small and a complete list of individuals is available.                            |\n",
    "| **Systematic Sampling**    | Selects every k-th individual from a population list, starting at a random point. | - Simple to execute<br>- Ensures even coverage across the population                              | - Can introduce bias if there is a pattern in the population<br>- Less effective for heterogeneous populations | When population is homogeneous or arranged randomly.                                                  |\n",
    "| **Cluster Sampling**       | Population is divided into clusters, some clusters are randomly selected, and all members of those clusters are sampled. | - Cost-effective<br>- Feasible for large or dispersed populations                                 | - Higher sampling error<br>- Risk of bias if selected clusters are not representative                 | When population is geographically dispersed, or when a complete list of individuals is unavailable.   |\n",
    "| **Multistage Sampling**    | Sampling is conducted in multiple stages, narrowing the population at each stage. | - Cost-efficient for large populations<br>- Flexible<br>- Scalable                                | - Cumulative sampling error<br>- Requires careful planning to avoid bias                             | Large-scale surveys, geographically dispersed populations, or populations with hierarchical structures. |\n",
    "| **Stratified Sampling**    | Population is divided into subgroups (strata), and samples are taken proportionally from each stratum. | - Ensures representation of all subgroups<br>- Reduces sampling error                             | - Requires detailed knowledge of population strata<br>- More complex and time-consuming               | When subgroup representation is crucial or when population is highly heterogeneous.                   |\n"
   ]
  },
  {
   "cell_type": "code",
   "execution_count": null,
   "id": "29b8e80b-bd95-4c00-8a88-29a44c01514b",
   "metadata": {},
   "outputs": [],
   "source": []
  }
 ],
 "metadata": {
  "kernelspec": {
   "display_name": "Python 3 (ipykernel)",
   "language": "python",
   "name": "python3"
  },
  "language_info": {
   "codemirror_mode": {
    "name": "ipython",
    "version": 3
   },
   "file_extension": ".py",
   "mimetype": "text/x-python",
   "name": "python",
   "nbconvert_exporter": "python",
   "pygments_lexer": "ipython3",
   "version": "3.12.7"
  }
 },
 "nbformat": 4,
 "nbformat_minor": 5
}
