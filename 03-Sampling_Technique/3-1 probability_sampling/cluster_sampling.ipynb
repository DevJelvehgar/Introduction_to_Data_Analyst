{
 "cells": [
  {
   "cell_type": "markdown",
   "id": "f7103895-89c5-4e88-a53c-373e43d8ffc9",
   "metadata": {},
   "source": [
    "## What is Cluster Sampling in Data Analysis?\n",
    "Cluster Sampling is a probability sampling technique where the population is divided into groups or clusters, and then a random selection of clusters is chosen. All individuals within the selected clusters are included in the sample. This approach is useful when the population is large, geographically dispersed, or when obtaining a complete list of individuals in the population is challenging."
   ]
  },
  {
   "cell_type": "markdown",
   "id": "ef8f191f-2f98-44a2-90b5-315e086c9952",
   "metadata": {},
   "source": [
    "#### Steps in Cluster Sampling\n",
    "1. **Divide the Population into Clusters:**\n",
    "The population is grouped into smaller, naturally occurring clusters, such as cities, schools, or districts.\n",
    "2. **Randomly Select Clusters:**\n",
    "A predetermined number of clusters are randomly selected.\n",
    "3. **Survey Everyone in the Selected Clusters:**\n",
    "Instead of sampling individuals, all members of the selected clusters are included in the sample.\n"
   ]
  },
  {
   "cell_type": "markdown",
   "id": "115b85a4-448f-4e7e-bb2a-a63f544ab6fc",
   "metadata": {},
   "source": [
    "#### Advantages of Cluster Sampling\n",
    "1. **Cost-Effective:**\n",
    "Reduces costs and effort since data collection is confined to specific clusters.\n",
    "2. **Feasibility:**\n",
    "Easier to implement for geographically dispersed populations where a full list of individuals is unavailable.\n",
    "\n",
    "3. **Efficient Data Collection:**\n",
    "Surveying entire clusters requires less logistical planning than sampling individuals randomly across the entire population.\n",
    "4. **Scalability:**\n",
    "Useful for large populations where simple random sampling is impractical."
   ]
  },
  {
   "cell_type": "markdown",
   "id": "fb1df93f-7d21-4d1d-83a3-6742716074b7",
   "metadata": {},
   "source": [
    "#### Disadvantages of Cluster Sampling\n",
    "1. **Risk of Bias:**\n",
    "If clusters are not representative of the entire population, the results may be biased.\n",
    "\n",
    "2. **Increased Sampling Error:**\n",
    "Since clusters may have similar characteristics, the variability within the sample could be lower than the variability in the population, leading to less precise estimates.\n",
    "\n",
    "3. **Dependent Observations:**\n",
    "Individuals within the same cluster may share common traits, reducing the independence of observations."
   ]
  },
  {
   "cell_type": "markdown",
   "id": "22b3a88e-0e71-47e8-8243-8c5854ed0555",
   "metadata": {},
   "source": [
    "#### When to Use Cluster Sampling\n",
    "\n",
    "1. **Geographically Dispersed Populations:**\n",
    "When the population is spread over a wide area and surveying individuals randomly is logistically challenging.\n",
    "\n",
    "2. **Cost and Time Constraints:**\n",
    "When resources are limited, and sampling individuals across the entire population is not feasible.\n",
    "\n",
    "3. **Homogeneous Clusters:**\n",
    "When clusters are internally diverse and representative of the entire population."
   ]
  },
  {
   "cell_type": "markdown",
   "id": "0dd801b0-374d-439a-bf47-e4eb6492c4a1",
   "metadata": {},
   "source": [
    "#### Python Code Example\n",
    "\n",
    "##### Scenario:\n",
    "You have a dataset of students from different schools, and you want to select a sample by randomly choosing schools (clusters) and including all students from those schools."
   ]
  },
  {
   "cell_type": "code",
   "execution_count": 9,
   "id": "17bd7bb0-a5d4-4aca-a719-c97728f61e86",
   "metadata": {},
   "outputs": [],
   "source": [
    "import numpy as np\n",
    "import pandas as pd"
   ]
  },
  {
   "cell_type": "code",
   "execution_count": 43,
   "id": "901a5464-0bef-4986-bcd6-8d8e25e6fb76",
   "metadata": {},
   "outputs": [
    {
     "data": {
      "text/plain": [
       "Schools\n",
       "school A    26\n",
       "school C    26\n",
       "school D    24\n",
       "school B    13\n",
       "school E    11\n",
       "Name: count, dtype: int64"
      ]
     },
     "execution_count": 43,
     "metadata": {},
     "output_type": "execute_result"
    }
   ],
   "source": [
    "data = pd.DataFrame({\n",
    "    \"StudentID\" : range(1,101),\n",
    "    \"Schools\" : np.random.choice([\"school A\",\"school B\",\"school C\",\"school D\",\"school E\"], size=100),\n",
    "    \"Score\" : np.random.randint(50,100, size=100)\n",
    "    \n",
    "})\n",
    "data[\"Schools\"].value_counts()"
   ]
  },
  {
   "cell_type": "code",
   "execution_count": 45,
   "id": "d1dca729-820e-4758-a07d-3e450357f643",
   "metadata": {},
   "outputs": [
    {
     "name": "stdout",
     "output_type": "stream",
     "text": [
      "All of Clusters:  ['school A' 'school C' 'school B' 'school E' 'school D']\n"
     ]
    }
   ],
   "source": [
    "# Clusters with Schools\n",
    "cluster = data[\"Schools\"].unique()\n",
    "print(\"All of Clusters: \", cluster)"
   ]
  },
  {
   "cell_type": "code",
   "execution_count": 47,
   "id": "5ad8517e-1da3-4cb4-adde-7a7c30a99445",
   "metadata": {},
   "outputs": [
    {
     "name": "stdout",
     "output_type": "stream",
     "text": [
      "Selected Clusters: ['school E' 'school D' 'school B']\n"
     ]
    }
   ],
   "source": [
    "# select randomly schools or clusters\n",
    "np.random.seed(42)\n",
    "selected_clusters = np.random.choice(cluster, size=3)\n",
    "print(\"Selected Clusters:\", selected_clusters)"
   ]
  },
  {
   "cell_type": "code",
   "execution_count": 49,
   "id": "0f02e746-9a5b-4013-9508-dfe7a4c44954",
   "metadata": {},
   "outputs": [],
   "source": [
    "# select all of student in selected clusters\n",
    "sample_data = data[data[\"Schools\"].isin(selected_clusters)]"
   ]
  },
  {
   "cell_type": "code",
   "execution_count": 51,
   "id": "9b49ab4e-6554-400e-908a-25861587e1dd",
   "metadata": {},
   "outputs": [
    {
     "data": {
      "text/plain": [
       "Schools\n",
       "school D    24\n",
       "school B    13\n",
       "school E    11\n",
       "Name: count, dtype: int64"
      ]
     },
     "execution_count": 51,
     "metadata": {},
     "output_type": "execute_result"
    }
   ],
   "source": [
    "sample_data[\"Schools\"].value_counts()"
   ]
  },
  {
   "cell_type": "code",
   "execution_count": null,
   "id": "620e1462-8210-4c91-a8c6-195f0c0b1823",
   "metadata": {},
   "outputs": [],
   "source": []
  }
 ],
 "metadata": {
  "kernelspec": {
   "display_name": "Python 3 (ipykernel)",
   "language": "python",
   "name": "python3"
  },
  "language_info": {
   "codemirror_mode": {
    "name": "ipython",
    "version": 3
   },
   "file_extension": ".py",
   "mimetype": "text/x-python",
   "name": "python",
   "nbconvert_exporter": "python",
   "pygments_lexer": "ipython3",
   "version": "3.12.7"
  }
 },
 "nbformat": 4,
 "nbformat_minor": 5
}
