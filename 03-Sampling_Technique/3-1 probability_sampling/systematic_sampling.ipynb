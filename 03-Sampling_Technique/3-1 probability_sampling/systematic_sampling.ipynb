{
 "cells": [
  {
   "cell_type": "markdown",
   "id": "94aee1e7-e899-4e6e-ac7b-ea3b4542c89a",
   "metadata": {},
   "source": [
    "## What is Systematic Sampling?\n",
    "Systematic Sampling is a statistical technique where elements are selected from an ordered sampling frame at regular intervals, known as the sampling interval. Instead of selecting elements randomly, the process involves:\n",
    "\n",
    "1. Ordering the population elements.\n",
    "2. Selecting a starting point randomly.\n",
    "3. Choosing every k-th element, where 𝑘 is the sampling interval\n",
    "\n",
    "The formula for the sampling interval is:\n",
    "\n",
    "$$ k = \\frac{\\text{Population Size}}{\\text{Sample Size}} $$\n"
   ]
  },
  {
   "cell_type": "markdown",
   "id": "008f90e3-67ca-4fa1-8d20-094a446c5ca2",
   "metadata": {},
   "source": [
    "#### Advantages of Systematic Sampling\n",
    "1. **Simplicity:** Easy to implement, especially for large datasets.\n",
    "2. **Speed:** Faster than simple random sampling.\n",
    "3. **Ensures Coverage:** Spreads the sample evenly across the population, reducing bias from clusters.\n",
    "4. **Good for Automation:** Can be programmatically executed without needing extensive manual effort."
   ]
  },
  {
   "cell_type": "markdown",
   "id": "63f8ccc7-0c75-4d77-89fc-2df4ec8274c2",
   "metadata": {},
   "source": [
    "#### Disadvantages of Systematic Sampling\n",
    "1. **Risk of Pattern Bias:** If the data contains a hidden pattern that coincides with the sampling interval, the sample may become biased.\n",
    "2. **Not Truly Random:** While it's systematic, it doesn’t provide the same randomness as simple random sampling.\n",
    "3. **Dependency on Sampling Frame:** The method assumes the population is well-ordered and not cyclically biased."
   ]
  },
  {
   "cell_type": "markdown",
   "id": "170ace90-4f03-4130-8878-af444fc4b9ce",
   "metadata": {},
   "source": [
    "#### When to Use Systematic Sampling\n",
    "1. When the population is large and a complete list (sampling frame) is available.\n",
    "2. When data collection needs to be quick and cost-effective.\n",
    "3. When the population is evenly distributed, with no cyclic patterns.\n",
    "4. When random sampling is impractical or unnecessary."
   ]
  },
  {
   "cell_type": "markdown",
   "id": "9ad5482d-df4b-4ee3-804d-2de24edf6e6c",
   "metadata": {},
   "source": [
    "#### Python Code Example\n"
   ]
  },
  {
   "cell_type": "code",
   "execution_count": 13,
   "id": "dd9529e8-dd49-4b6f-8066-37720956653e",
   "metadata": {},
   "outputs": [],
   "source": [
    "import numpy as np\n",
    "import pandas as pd"
   ]
  },
  {
   "cell_type": "code",
   "execution_count": 49,
   "id": "153d10d6-f794-4da3-9d1a-27e53449db36",
   "metadata": {},
   "outputs": [],
   "source": [
    "population = pd.DataFrame({\n",
    "    \"ID\" : range(1,1001), # generated 1000 ID \n",
    "    \"Value\" : np.random.randint(1,100,1000) # generated 1000 number in range 1 - 100\n",
    "})\n",
    "\n",
    "# We need 100 samples from the population\n",
    "sample_size = 100 \n",
    "\n",
    "k = len(population) // sample_size\n",
    "\n",
    "# choose 1 random number to start systematic generation\n",
    "start_index = np.random.randint(1,k)\n",
    "\n",
    "# from starting index to end of population with k steps\n",
    "systematic_sampling = population.iloc[start_index::k]"
   ]
  },
  {
   "cell_type": "code",
   "execution_count": 51,
   "id": "ea728e16-d0b3-4e9b-bcbb-34d3b31ec619",
   "metadata": {},
   "outputs": [
    {
     "data": {
      "text/html": [
       "<div>\n",
       "<style scoped>\n",
       "    .dataframe tbody tr th:only-of-type {\n",
       "        vertical-align: middle;\n",
       "    }\n",
       "\n",
       "    .dataframe tbody tr th {\n",
       "        vertical-align: top;\n",
       "    }\n",
       "\n",
       "    .dataframe thead th {\n",
       "        text-align: right;\n",
       "    }\n",
       "</style>\n",
       "<table border=\"1\" class=\"dataframe\">\n",
       "  <thead>\n",
       "    <tr style=\"text-align: right;\">\n",
       "      <th></th>\n",
       "      <th>ID</th>\n",
       "      <th>Value</th>\n",
       "    </tr>\n",
       "  </thead>\n",
       "  <tbody>\n",
       "    <tr>\n",
       "      <th>5</th>\n",
       "      <td>6</td>\n",
       "      <td>60</td>\n",
       "    </tr>\n",
       "    <tr>\n",
       "      <th>15</th>\n",
       "      <td>16</td>\n",
       "      <td>34</td>\n",
       "    </tr>\n",
       "    <tr>\n",
       "      <th>25</th>\n",
       "      <td>26</td>\n",
       "      <td>72</td>\n",
       "    </tr>\n",
       "    <tr>\n",
       "      <th>35</th>\n",
       "      <td>36</td>\n",
       "      <td>35</td>\n",
       "    </tr>\n",
       "    <tr>\n",
       "      <th>45</th>\n",
       "      <td>46</td>\n",
       "      <td>27</td>\n",
       "    </tr>\n",
       "    <tr>\n",
       "      <th>...</th>\n",
       "      <td>...</td>\n",
       "      <td>...</td>\n",
       "    </tr>\n",
       "    <tr>\n",
       "      <th>955</th>\n",
       "      <td>956</td>\n",
       "      <td>50</td>\n",
       "    </tr>\n",
       "    <tr>\n",
       "      <th>965</th>\n",
       "      <td>966</td>\n",
       "      <td>85</td>\n",
       "    </tr>\n",
       "    <tr>\n",
       "      <th>975</th>\n",
       "      <td>976</td>\n",
       "      <td>5</td>\n",
       "    </tr>\n",
       "    <tr>\n",
       "      <th>985</th>\n",
       "      <td>986</td>\n",
       "      <td>81</td>\n",
       "    </tr>\n",
       "    <tr>\n",
       "      <th>995</th>\n",
       "      <td>996</td>\n",
       "      <td>38</td>\n",
       "    </tr>\n",
       "  </tbody>\n",
       "</table>\n",
       "<p>100 rows × 2 columns</p>\n",
       "</div>"
      ],
      "text/plain": [
       "      ID  Value\n",
       "5      6     60\n",
       "15    16     34\n",
       "25    26     72\n",
       "35    36     35\n",
       "45    46     27\n",
       "..   ...    ...\n",
       "955  956     50\n",
       "965  966     85\n",
       "975  976      5\n",
       "985  986     81\n",
       "995  996     38\n",
       "\n",
       "[100 rows x 2 columns]"
      ]
     },
     "execution_count": 51,
     "metadata": {},
     "output_type": "execute_result"
    }
   ],
   "source": [
    "systematic_sampling"
   ]
  },
  {
   "cell_type": "markdown",
   "id": "89761b57-fc4b-41ac-8d4c-901a28c21aa7",
   "metadata": {},
   "source": [
    "#### Output Example\n",
    "Suppose the random start point is 6, and 𝑘 = 10\n",
    "the selected sample would contain the 6th, 16th, 26th, etc., rows from the dataset.<br> The systematic sample ensures a proportional and even distribution over the dataset."
   ]
  },
  {
   "cell_type": "code",
   "execution_count": null,
   "id": "a736faa0-2015-470d-a5a2-5e3a8934d24d",
   "metadata": {},
   "outputs": [],
   "source": []
  }
 ],
 "metadata": {
  "kernelspec": {
   "display_name": "Python 3 (ipykernel)",
   "language": "python",
   "name": "python3"
  },
  "language_info": {
   "codemirror_mode": {
    "name": "ipython",
    "version": 3
   },
   "file_extension": ".py",
   "mimetype": "text/x-python",
   "name": "python",
   "nbconvert_exporter": "python",
   "pygments_lexer": "ipython3",
   "version": "3.12.7"
  }
 },
 "nbformat": 4,
 "nbformat_minor": 5
}
