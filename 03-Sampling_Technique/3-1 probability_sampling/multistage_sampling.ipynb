{
 "cells": [
  {
   "cell_type": "markdown",
   "id": "fcf820e4-91be-412b-803c-d5be94b65a63",
   "metadata": {},
   "source": [
    "#### What is Multistage Sampling in Data Analysis?\n",
    "Multistage Sampling is a complex probability sampling technique where sampling is conducted in multiple stages. Instead of sampling directly from the entire population, the population is divided into hierarchical stages (e.g., regions, schools, individuals). Each stage involves random selection, narrowing the population step by step.\n",
    "\n",
    "**For example:**\n",
    "\n",
    "1. Randomly select regions (stage 1).\n",
    "2. Within the selected regions, randomly select schools (stage 2).\n",
    "3. Within the selected schools, randomly select students (stage 3).<br>\n",
    "This method is highly efficient for large and dispersed populations and is often used in surveys like national censuses.\n",
    "\n"
   ]
  },
  {
   "cell_type": "markdown",
   "id": "b7ee11dc-3ba2-4262-937e-5bb66e44c3e7",
   "metadata": {},
   "source": [
    "#### Advantages of Multistage Sampling\n",
    "1. **Cost-Effective:**\n",
    "Reduces costs by narrowing the sampling frame in stages, instead of sampling the entire population directly.\n",
    "\n",
    "2. **Flexible:**\n",
    "Allows researchers to use different sampling techniques at different stages (e.g., cluster sampling in stage 1, simple random sampling in stage 2).\n",
    "\n",
    "3. **Practical for Large Populations:**\n",
    "Particularly useful for geographically dispersed populations where accessing the entire population is challenging.\n",
    "\n",
    "4. **Scalable:**\n",
    "Easily adaptable to studies of varying sizes and complexity.\n"
   ]
  },
  {
   "cell_type": "markdown",
   "id": "14bcbc8f-585f-4200-8094-a1921494e914",
   "metadata": {},
   "source": [
    "#### Disadvantages of Multistage Sampling\n",
    "1. **Higher Sampling Error:**\n",
    "Each stage introduces variability, leading to a higher cumulative sampling error compared to simpler methods like stratified sampling.\n",
    "\n",
    "2. **Potential Bias:**\n",
    "Improper sampling at any stage can propagate bias through the entire process.\n",
    "\n",
    "3. **Complexity:**\n",
    "Designing and implementing multistage sampling requires more effort and expertise."
   ]
  },
  {
   "cell_type": "markdown",
   "id": "670b779f-5745-4954-9121-aab865509b29",
   "metadata": {},
   "source": [
    "#### When to Use Multistage Sampling\n",
    "1. **Large-Scale Surveys:**\n",
    "National or regional studies with limited resources, such as censuses or educational studies.\n",
    "\n",
    "2. **Geographically Dispersed Populations:**\n",
    "When the population spans large areas, making direct sampling impractical.\n",
    "\n",
    "3. **Hierarchical Structures:**\n",
    "When the population naturally forms groups (e.g., states, districts, schools, households)."
   ]
  },
  {
   "cell_type": "markdown",
   "id": "1c6827c5-f865-4230-b98d-30e601cc99a1",
   "metadata": {},
   "source": [
    "#### Python Code Example\n",
    "\n",
    "##### Scenario:\n",
    "You have a dataset of students categorized by region, school, and class. You want to sample:<br>\n",
    "Random regions (stage 1).<br>\n",
    "Random schools within the selected regions (stage 2).<br>\n",
    "Random students within the selected schools (stage 3).<br>"
   ]
  },
  {
   "cell_type": "code",
   "execution_count": 95,
   "id": "ffc75e29-6027-447c-9bb3-4814d9c1af48",
   "metadata": {},
   "outputs": [],
   "source": [
    "from numpy import random as rnd\n",
    "import pandas as pd"
   ]
  },
  {
   "cell_type": "code",
   "execution_count": 129,
   "id": "23e0de0c-a9fe-41f3-a007-c8e350ee032c",
   "metadata": {},
   "outputs": [
    {
     "data": {
      "text/html": [
       "<div>\n",
       "<style scoped>\n",
       "    .dataframe tbody tr th:only-of-type {\n",
       "        vertical-align: middle;\n",
       "    }\n",
       "\n",
       "    .dataframe tbody tr th {\n",
       "        vertical-align: top;\n",
       "    }\n",
       "\n",
       "    .dataframe thead th {\n",
       "        text-align: right;\n",
       "    }\n",
       "</style>\n",
       "<table border=\"1\" class=\"dataframe\">\n",
       "  <thead>\n",
       "    <tr style=\"text-align: right;\">\n",
       "      <th></th>\n",
       "      <th>StudentID</th>\n",
       "      <th>Region</th>\n",
       "      <th>Schools</th>\n",
       "      <th>Classroom</th>\n",
       "      <th>MathScore</th>\n",
       "    </tr>\n",
       "  </thead>\n",
       "  <tbody>\n",
       "    <tr>\n",
       "      <th>0</th>\n",
       "      <td>1</td>\n",
       "      <td>West</td>\n",
       "      <td>school_13</td>\n",
       "      <td>class B</td>\n",
       "      <td>59</td>\n",
       "    </tr>\n",
       "    <tr>\n",
       "      <th>1</th>\n",
       "      <td>2</td>\n",
       "      <td>North</td>\n",
       "      <td>school_12</td>\n",
       "      <td>class A</td>\n",
       "      <td>74</td>\n",
       "    </tr>\n",
       "    <tr>\n",
       "      <th>2</th>\n",
       "      <td>3</td>\n",
       "      <td>East</td>\n",
       "      <td>school_13</td>\n",
       "      <td>class C</td>\n",
       "      <td>67</td>\n",
       "    </tr>\n",
       "    <tr>\n",
       "      <th>3</th>\n",
       "      <td>4</td>\n",
       "      <td>North</td>\n",
       "      <td>school_13</td>\n",
       "      <td>class A</td>\n",
       "      <td>68</td>\n",
       "    </tr>\n",
       "    <tr>\n",
       "      <th>4</th>\n",
       "      <td>5</td>\n",
       "      <td>North</td>\n",
       "      <td>school_14</td>\n",
       "      <td>class B</td>\n",
       "      <td>85</td>\n",
       "    </tr>\n",
       "    <tr>\n",
       "      <th>5</th>\n",
       "      <td>6</td>\n",
       "      <td>North</td>\n",
       "      <td>school_3</td>\n",
       "      <td>class D</td>\n",
       "      <td>59</td>\n",
       "    </tr>\n",
       "    <tr>\n",
       "      <th>6</th>\n",
       "      <td>7</td>\n",
       "      <td>North</td>\n",
       "      <td>school_13</td>\n",
       "      <td>class B</td>\n",
       "      <td>82</td>\n",
       "    </tr>\n",
       "    <tr>\n",
       "      <th>7</th>\n",
       "      <td>8</td>\n",
       "      <td>South</td>\n",
       "      <td>school_6</td>\n",
       "      <td>class B</td>\n",
       "      <td>99</td>\n",
       "    </tr>\n",
       "    <tr>\n",
       "      <th>8</th>\n",
       "      <td>9</td>\n",
       "      <td>West</td>\n",
       "      <td>school_2</td>\n",
       "      <td>class D</td>\n",
       "      <td>54</td>\n",
       "    </tr>\n",
       "    <tr>\n",
       "      <th>9</th>\n",
       "      <td>10</td>\n",
       "      <td>South</td>\n",
       "      <td>school_3</td>\n",
       "      <td>class B</td>\n",
       "      <td>96</td>\n",
       "    </tr>\n",
       "  </tbody>\n",
       "</table>\n",
       "</div>"
      ],
      "text/plain": [
       "   StudentID Region    Schools Classroom  MathScore\n",
       "0          1   West  school_13   class B         59\n",
       "1          2  North  school_12   class A         74\n",
       "2          3   East  school_13   class C         67\n",
       "3          4  North  school_13   class A         68\n",
       "4          5  North  school_14   class B         85\n",
       "5          6  North   school_3   class D         59\n",
       "6          7  North  school_13   class B         82\n",
       "7          8  South   school_6   class B         99\n",
       "8          9   West   school_2   class D         54\n",
       "9         10  South   school_3   class B         96"
      ]
     },
     "execution_count": 129,
     "metadata": {},
     "output_type": "execute_result"
    }
   ],
   "source": [
    "\n",
    "population = pd.DataFrame({\n",
    "    \"StudentID\" : range(1, 1001),\n",
    "    \"Region\" : rnd.choice([\"West\", \"East\", \"North\", \"South\"], size=1000),\n",
    "    \"Schools\" : rnd.choice([f\"school_{i}\"  for i in range(1,15)], size=1000),\n",
    "    \"Classroom\" : rnd.choice([\"class A\", \"class B\", \"class C\", \"class D\"], size=1000),\n",
    "    \"MathScore\" : rnd.randint(50, 100, size=1000) \n",
    "})\n",
    "population.head(10)"
   ]
  },
  {
   "cell_type": "code",
   "execution_count": 131,
   "id": "f38cbd68-81be-41a1-bef6-227fa0ee4c19",
   "metadata": {},
   "outputs": [
    {
     "data": {
      "text/plain": [
       "array(['East', 'South'], dtype=object)"
      ]
     },
     "execution_count": 131,
     "metadata": {},
     "output_type": "execute_result"
    }
   ],
   "source": [
    "# Randomly Selected Region\n",
    "rnd.seed(42)\n",
    "selected_regions = rnd.choice(population[\"Region\"].unique(), size=2)\n",
    "selected_regions"
   ]
  },
  {
   "cell_type": "code",
   "execution_count": 133,
   "id": "db4150d4-f6d5-44ba-b12d-86cc4aac295b",
   "metadata": {},
   "outputs": [
    {
     "data": {
      "text/html": [
       "<div>\n",
       "<style scoped>\n",
       "    .dataframe tbody tr th:only-of-type {\n",
       "        vertical-align: middle;\n",
       "    }\n",
       "\n",
       "    .dataframe tbody tr th {\n",
       "        vertical-align: top;\n",
       "    }\n",
       "\n",
       "    .dataframe thead th {\n",
       "        text-align: right;\n",
       "    }\n",
       "</style>\n",
       "<table border=\"1\" class=\"dataframe\">\n",
       "  <thead>\n",
       "    <tr style=\"text-align: right;\">\n",
       "      <th></th>\n",
       "      <th>StudentID</th>\n",
       "      <th>Region</th>\n",
       "      <th>Schools</th>\n",
       "      <th>Classroom</th>\n",
       "      <th>MathScore</th>\n",
       "    </tr>\n",
       "  </thead>\n",
       "  <tbody>\n",
       "    <tr>\n",
       "      <th>2</th>\n",
       "      <td>3</td>\n",
       "      <td>East</td>\n",
       "      <td>school_13</td>\n",
       "      <td>class C</td>\n",
       "      <td>67</td>\n",
       "    </tr>\n",
       "    <tr>\n",
       "      <th>7</th>\n",
       "      <td>8</td>\n",
       "      <td>South</td>\n",
       "      <td>school_6</td>\n",
       "      <td>class B</td>\n",
       "      <td>99</td>\n",
       "    </tr>\n",
       "    <tr>\n",
       "      <th>9</th>\n",
       "      <td>10</td>\n",
       "      <td>South</td>\n",
       "      <td>school_3</td>\n",
       "      <td>class B</td>\n",
       "      <td>96</td>\n",
       "    </tr>\n",
       "    <tr>\n",
       "      <th>10</th>\n",
       "      <td>11</td>\n",
       "      <td>South</td>\n",
       "      <td>school_5</td>\n",
       "      <td>class B</td>\n",
       "      <td>98</td>\n",
       "    </tr>\n",
       "    <tr>\n",
       "      <th>11</th>\n",
       "      <td>12</td>\n",
       "      <td>South</td>\n",
       "      <td>school_9</td>\n",
       "      <td>class A</td>\n",
       "      <td>84</td>\n",
       "    </tr>\n",
       "  </tbody>\n",
       "</table>\n",
       "</div>"
      ],
      "text/plain": [
       "    StudentID Region    Schools Classroom  MathScore\n",
       "2           3   East  school_13   class C         67\n",
       "7           8  South   school_6   class B         99\n",
       "9          10  South   school_3   class B         96\n",
       "10         11  South   school_5   class B         98\n",
       "11         12  South   school_9   class A         84"
      ]
     },
     "execution_count": 133,
     "metadata": {},
     "output_type": "execute_result"
    }
   ],
   "source": [
    "# Filter on population with selected regions and choose all of them\n",
    "filter_by_selected_regions = population[population[\"Region\"].isin(selected_regions)]\n",
    "filter_by_selected_regions.head()"
   ]
  },
  {
   "cell_type": "code",
   "execution_count": 153,
   "id": "78a47a9e-abc7-47b8-a534-3402b223a79e",
   "metadata": {},
   "outputs": [
    {
     "data": {
      "text/plain": [
       "array(['school_3', 'school_13', 'school_14', 'school_9'], dtype=object)"
      ]
     },
     "execution_count": 153,
     "metadata": {},
     "output_type": "execute_result"
    }
   ],
   "source": [
    "# pick up 4 unique schools\n",
    "schools = filter_by_selected_regions[\"Schools\"].unique()\n",
    "selected_schools = rnd.choice(schools, size=4, replace=False )\n",
    "selected_schools"
   ]
  },
  {
   "cell_type": "code",
   "execution_count": 164,
   "id": "069441c1-aa3c-440d-a73a-a8f77ca65bae",
   "metadata": {},
   "outputs": [
    {
     "data": {
      "text/plain": [
       "Schools\n",
       "school_3     43\n",
       "school_14    35\n",
       "school_13    32\n",
       "school_9     30\n",
       "Name: count, dtype: int64"
      ]
     },
     "execution_count": 164,
     "metadata": {},
     "output_type": "execute_result"
    }
   ],
   "source": [
    "# From filter_by_selected_regions, select all students who are on selected_schools\n",
    "filter_students_by_schools = filter_by_selected_regions[filter_by_selected_regions[\"Schools\"].isin(selected_schools)]\n",
    "filter_students_by_schools[\"Schools\"].value_counts()"
   ]
  },
  {
   "cell_type": "code",
   "execution_count": 178,
   "id": "70c9b32b-9f13-4f3f-b52b-3a1f9510563a",
   "metadata": {},
   "outputs": [
    {
     "data": {
      "text/html": [
       "<div>\n",
       "<style scoped>\n",
       "    .dataframe tbody tr th:only-of-type {\n",
       "        vertical-align: middle;\n",
       "    }\n",
       "\n",
       "    .dataframe tbody tr th {\n",
       "        vertical-align: top;\n",
       "    }\n",
       "\n",
       "    .dataframe thead th {\n",
       "        text-align: right;\n",
       "    }\n",
       "</style>\n",
       "<table border=\"1\" class=\"dataframe\">\n",
       "  <thead>\n",
       "    <tr style=\"text-align: right;\">\n",
       "      <th></th>\n",
       "      <th>StudentID</th>\n",
       "      <th>Region</th>\n",
       "      <th>Schools</th>\n",
       "      <th>Classroom</th>\n",
       "      <th>MathScore</th>\n",
       "    </tr>\n",
       "  </thead>\n",
       "  <tbody>\n",
       "    <tr>\n",
       "      <th>761</th>\n",
       "      <td>762</td>\n",
       "      <td>South</td>\n",
       "      <td>school_13</td>\n",
       "      <td>class A</td>\n",
       "      <td>59</td>\n",
       "    </tr>\n",
       "    <tr>\n",
       "      <th>470</th>\n",
       "      <td>471</td>\n",
       "      <td>South</td>\n",
       "      <td>school_13</td>\n",
       "      <td>class B</td>\n",
       "      <td>60</td>\n",
       "    </tr>\n",
       "    <tr>\n",
       "      <th>230</th>\n",
       "      <td>231</td>\n",
       "      <td>East</td>\n",
       "      <td>school_3</td>\n",
       "      <td>class C</td>\n",
       "      <td>69</td>\n",
       "    </tr>\n",
       "    <tr>\n",
       "      <th>865</th>\n",
       "      <td>866</td>\n",
       "      <td>East</td>\n",
       "      <td>school_3</td>\n",
       "      <td>class A</td>\n",
       "      <td>68</td>\n",
       "    </tr>\n",
       "    <tr>\n",
       "      <th>288</th>\n",
       "      <td>289</td>\n",
       "      <td>South</td>\n",
       "      <td>school_14</td>\n",
       "      <td>class A</td>\n",
       "      <td>76</td>\n",
       "    </tr>\n",
       "    <tr>\n",
       "      <th>66</th>\n",
       "      <td>67</td>\n",
       "      <td>East</td>\n",
       "      <td>school_13</td>\n",
       "      <td>class B</td>\n",
       "      <td>53</td>\n",
       "    </tr>\n",
       "    <tr>\n",
       "      <th>602</th>\n",
       "      <td>603</td>\n",
       "      <td>South</td>\n",
       "      <td>school_9</td>\n",
       "      <td>class D</td>\n",
       "      <td>85</td>\n",
       "    </tr>\n",
       "    <tr>\n",
       "      <th>476</th>\n",
       "      <td>477</td>\n",
       "      <td>East</td>\n",
       "      <td>school_13</td>\n",
       "      <td>class B</td>\n",
       "      <td>77</td>\n",
       "    </tr>\n",
       "    <tr>\n",
       "      <th>746</th>\n",
       "      <td>747</td>\n",
       "      <td>East</td>\n",
       "      <td>school_9</td>\n",
       "      <td>class C</td>\n",
       "      <td>73</td>\n",
       "    </tr>\n",
       "    <tr>\n",
       "      <th>771</th>\n",
       "      <td>772</td>\n",
       "      <td>South</td>\n",
       "      <td>school_9</td>\n",
       "      <td>class B</td>\n",
       "      <td>97</td>\n",
       "    </tr>\n",
       "  </tbody>\n",
       "</table>\n",
       "</div>"
      ],
      "text/plain": [
       "     StudentID Region    Schools Classroom  MathScore\n",
       "761        762  South  school_13   class A         59\n",
       "470        471  South  school_13   class B         60\n",
       "230        231   East   school_3   class C         69\n",
       "865        866   East   school_3   class A         68\n",
       "288        289  South  school_14   class A         76\n",
       "66          67   East  school_13   class B         53\n",
       "602        603  South   school_9   class D         85\n",
       "476        477   East  school_13   class B         77\n",
       "746        747   East   school_9   class C         73\n",
       "771        772  South   school_9   class B         97"
      ]
     },
     "execution_count": 178,
     "metadata": {},
     "output_type": "execute_result"
    }
   ],
   "source": [
    "# pick up 50 sample student from filter_students_by_schools = ['school_13', 'school_3', 'school_14', 'school_9']\n",
    "sample_students = filter_students_by_schools.sample(n=50, random_state=42)\n",
    "sample_students.head(10)"
   ]
  },
  {
   "cell_type": "code",
   "execution_count": 180,
   "id": "3e0502f2-9745-4504-8714-91053fe7d663",
   "metadata": {},
   "outputs": [
    {
     "data": {
      "text/plain": [
       "array(['South', 'East'], dtype=object)"
      ]
     },
     "execution_count": 180,
     "metadata": {},
     "output_type": "execute_result"
    }
   ],
   "source": [
    "sample_students[\"Region\"].unique()"
   ]
  },
  {
   "cell_type": "code",
   "execution_count": 182,
   "id": "211caa0b-ab20-4650-b7e1-81ccc6a56de8",
   "metadata": {},
   "outputs": [
    {
     "data": {
      "text/plain": [
       "array(['school_13', 'school_3', 'school_14', 'school_9'], dtype=object)"
      ]
     },
     "execution_count": 182,
     "metadata": {},
     "output_type": "execute_result"
    }
   ],
   "source": [
    "sample_students[\"Schools\"].unique()"
   ]
  },
  {
   "cell_type": "code",
   "execution_count": null,
   "id": "40a6dfc0-b79a-4d76-a087-9323c9d36281",
   "metadata": {},
   "outputs": [],
   "source": []
  }
 ],
 "metadata": {
  "kernelspec": {
   "display_name": "Python 3 (ipykernel)",
   "language": "python",
   "name": "python3"
  },
  "language_info": {
   "codemirror_mode": {
    "name": "ipython",
    "version": 3
   },
   "file_extension": ".py",
   "mimetype": "text/x-python",
   "name": "python",
   "nbconvert_exporter": "python",
   "pygments_lexer": "ipython3",
   "version": "3.12.7"
  }
 },
 "nbformat": 4,
 "nbformat_minor": 5
}
