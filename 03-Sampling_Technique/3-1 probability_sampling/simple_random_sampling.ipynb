{
 "cells": [
  {
   "cell_type": "markdown",
   "id": "d983416d-02e2-460d-983a-e05b4257665a",
   "metadata": {},
   "source": [
    "## What is Simple Random Sampling?\n",
    "Simple Random Sampling (SRS) is a basic sampling method in which every individual in the population has an equal and independent chance of being selected in the sample. This ensures that the sample is unbiased and representative of the population, assuming a sufficiently large sample size."
   ]
  },
  {
   "cell_type": "markdown",
   "id": "603022f8-cef4-484b-bd1a-67bbb7d5825c",
   "metadata": {},
   "source": [
    "#### Steps of Simple Random Sampling\n",
    "1. Define the population from which the sample is to be drawn.<br>\n",
    "2. Assign a unique identifier (e.g., a number) to every individual in the population.<br>\n",
    "3. Randomly select a predetermined number of individuals from the population.<br>"
   ]
  },
  {
   "cell_type": "markdown",
   "id": "8db555d1-1c5e-4777-9e09-bd8b6a4499c5",
   "metadata": {},
   "source": [
    "#### Advantages of Simple Random Sampling\n",
    "1. Unbiased Representation: Each individual has an equal chance of being selected, reducing selection bias.<br>\n",
    "2. Simplicity: The method is straightforward and easy to understand and implement.<br>\n",
    "3. Applicability: Works well for populations where all members are equally important.<br>"
   ]
  },
  {
   "cell_type": "markdown",
   "id": "f7891bfe-ebb4-46d2-8662-a76b45000300",
   "metadata": {},
   "source": [
    "#### Disadvantages of Simple Random Sampling\n",
    "1. Not Suitable for Large Populations: It can be inefficient and resource-intensive for large populations.\n",
    "2. Requires a Complete Population List: You need a comprehensive list of all individuals in the population, which might not always be available.\n",
    "3. Lack of Stratification: May not account for specific subgroups or characteristics, leading to potential under-representation of smaller groups."
   ]
  },
  {
   "cell_type": "markdown",
   "id": "9c724ebb-ce73-45fd-9fdf-6841ca09ef80",
   "metadata": {},
   "source": [
    "#### When to Use Simple Random Sampling\n",
    "1. When you have a complete list of the population.\n",
    "2. When the population is homogeneous, and no stratification is required.\n",
    "3. When you want a straightforward and unbiased sampling approach for small to medium-sized populations.\n"
   ]
  },
  {
   "cell_type": "code",
   "execution_count": 10,
   "id": "9c60f40d-a5f3-4a18-9d86-1138faf896bf",
   "metadata": {},
   "outputs": [
    {
     "name": "stdout",
     "output_type": "stream",
     "text": [
      "Population: ['Alice', 'Bob', 'Charlie', 'David', 'Eve', 'Frank', 'Grace', 'Hank', 'Ivy', 'Jack']\n",
      "Sample: ['Ivy', 'Alice', 'Jack', 'Eve']\n"
     ]
    }
   ],
   "source": [
    "# EXP-1\n",
    "import random\n",
    "import pandas as pd\n",
    "\n",
    "# Define the population\n",
    "population = [\"Alice\", \"Bob\", \"Charlie\", \"David\", \"Eve\", \"Frank\", \"Grace\", \"Hank\", \"Ivy\", \"Jack\"]\n",
    "\n",
    "# Specify the sample size\n",
    "sample_size = 4\n",
    "\n",
    "# Simple Random Sampling\n",
    "sample = random.sample(population, sample_size)\n",
    "\n",
    "print(\"Population:\", population)\n",
    "print(\"Sample:\", sample)\n"
   ]
  },
  {
   "cell_type": "code",
   "execution_count": 24,
   "id": "d2e1e5d0-d680-4ea1-9e6f-db1001fc9cfa",
   "metadata": {},
   "outputs": [
    {
     "name": "stdout",
     "output_type": "stream",
     "text": [
      "Original DataFrame:\n",
      "   ID     Name  Age\n",
      "0   1    Alice   25\n",
      "1   2      Bob   30\n",
      "2   3  Charlie   35\n",
      "3   4    David   40\n",
      "4   5      Eve   22\n",
      "5   6    Frank   29\n",
      "6   7    Grace   31\n",
      "7   8     Hank   36\n",
      "8   9      Ivy   27\n",
      "9  10     Jack   33\n",
      "\n",
      "Random Sample:\n",
      "   ID   Name  Age\n",
      "8   9    Ivy   27\n",
      "1   2    Bob   30\n",
      "5   6  Frank   29\n",
      "0   1  Alice   25\n"
     ]
    },
    {
     "data": {
      "text/html": [
       "<div>\n",
       "<style scoped>\n",
       "    .dataframe tbody tr th:only-of-type {\n",
       "        vertical-align: middle;\n",
       "    }\n",
       "\n",
       "    .dataframe tbody tr th {\n",
       "        vertical-align: top;\n",
       "    }\n",
       "\n",
       "    .dataframe thead th {\n",
       "        text-align: right;\n",
       "    }\n",
       "</style>\n",
       "<table border=\"1\" class=\"dataframe\">\n",
       "  <thead>\n",
       "    <tr style=\"text-align: right;\">\n",
       "      <th></th>\n",
       "      <th>ID</th>\n",
       "      <th>Name</th>\n",
       "      <th>Age</th>\n",
       "    </tr>\n",
       "  </thead>\n",
       "  <tbody>\n",
       "    <tr>\n",
       "      <th>0</th>\n",
       "      <td>1</td>\n",
       "      <td>Alice</td>\n",
       "      <td>25</td>\n",
       "    </tr>\n",
       "    <tr>\n",
       "      <th>1</th>\n",
       "      <td>2</td>\n",
       "      <td>Bob</td>\n",
       "      <td>30</td>\n",
       "    </tr>\n",
       "    <tr>\n",
       "      <th>2</th>\n",
       "      <td>3</td>\n",
       "      <td>Charlie</td>\n",
       "      <td>35</td>\n",
       "    </tr>\n",
       "    <tr>\n",
       "      <th>3</th>\n",
       "      <td>4</td>\n",
       "      <td>David</td>\n",
       "      <td>40</td>\n",
       "    </tr>\n",
       "    <tr>\n",
       "      <th>4</th>\n",
       "      <td>5</td>\n",
       "      <td>Eve</td>\n",
       "      <td>22</td>\n",
       "    </tr>\n",
       "  </tbody>\n",
       "</table>\n",
       "</div>"
      ],
      "text/plain": [
       "   ID     Name  Age\n",
       "0   1    Alice   25\n",
       "1   2      Bob   30\n",
       "2   3  Charlie   35\n",
       "3   4    David   40\n",
       "4   5      Eve   22"
      ]
     },
     "execution_count": 24,
     "metadata": {},
     "output_type": "execute_result"
    }
   ],
   "source": [
    "# EXP-2\n",
    "\n",
    "# Create a DataFrame\n",
    "data = pd.DataFrame({\n",
    "    \"ID\": range(1, 11), # Assign a unique identifier (a number) to every individual in the population.\n",
    "    \"Name\": [\"Alice\", \"Bob\", \"Charlie\", \"David\", \"Eve\", \"Frank\", \"Grace\", \"Hank\", \"Ivy\", \"Jack\"],\n",
    "    \"Age\": [25, 30, 35, 40, 22, 29, 31, 36, 27, 33]\n",
    "})\n",
    "\n",
    "# Specify the sample size\n",
    "sample_size = 4\n",
    "\n",
    "# Simple Random Sampling using DataFrame.sample()\n",
    "sample_df = data.sample(n=sample_size, random_state=42)\n",
    "\n",
    "print(\"Original DataFrame:\")\n",
    "print(data)\n",
    "print(\"\\nRandom Sample:\")\n",
    "print(sample_df)\n"
   ]
  },
  {
   "cell_type": "code",
   "execution_count": null,
   "id": "981e08c8-ae26-4e3b-9974-52f03c0cf225",
   "metadata": {},
   "outputs": [],
   "source": []
  }
 ],
 "metadata": {
  "kernelspec": {
   "display_name": "Python 3 (ipykernel)",
   "language": "python",
   "name": "python3"
  },
  "language_info": {
   "codemirror_mode": {
    "name": "ipython",
    "version": 3
   },
   "file_extension": ".py",
   "mimetype": "text/x-python",
   "name": "python",
   "nbconvert_exporter": "python",
   "pygments_lexer": "ipython3",
   "version": "3.12.7"
  }
 },
 "nbformat": 4,
 "nbformat_minor": 5
}
