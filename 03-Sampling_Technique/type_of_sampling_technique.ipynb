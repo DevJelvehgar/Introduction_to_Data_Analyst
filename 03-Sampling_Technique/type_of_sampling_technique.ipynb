{
 "cells": [
  {
   "cell_type": "markdown",
   "id": "d5d5de52-22fd-49d4-9a33-6b2e5c556dd1",
   "metadata": {},
   "source": [
    "# Type of Sampling Technique"
   ]
  },
  {
   "cell_type": "markdown",
   "id": "b5d1befb-028c-49e0-a392-74e68e187552",
   "metadata": {},
   "source": [
    "## Probability Sampling\n",
    "In probability sampling, every individual in the population has a known, non-zero chance of being selected.This ensures the sample is representative and reduces bias.\n",
    "\n",
    "#####  1. Simple Random Sampling \n",
    "#####  2. Systematic Sampling\n",
    "#####  3. Stratified Sampling\n",
    "#####  4. Cluster Sampling\n",
    "#####  5. Multi-Stage Sampling\n",
    "\n"
   ]
  },
  {
   "cell_type": "markdown",
   "id": "d730e033-4d11-4e3f-8a70-d3488366e27b",
   "metadata": {},
   "source": [
    "## Non-Probability Sampling\n",
    "In non-probability sampling, not all individuals have a chance of being selected. This is often used when quick results are needed or when a representative sample is less critical.\n",
    "\n",
    "##### 1. Convenience Sampling\n",
    "##### 2. Voluntary Sampling\n",
    "##### 3. Judgmental (Purposive) Sampling\n",
    "##### 4. Snowball Sampling\n",
    "##### 5. Quota Sampling\n"
   ]
  },
  {
   "cell_type": "markdown",
   "id": "c500e6bf-a22c-40f2-b84e-9ca4e091cc70",
   "metadata": {},
   "source": [
    "| **Aspect**                | **Probability Sampling**      | **Non-Probability Sampling**  |\n",
    "|---------------------------|-------------------------------|--------------------------------|\n",
    "| **Selection Process**     | Random                       | Non-random                    |\n",
    "| **Bias**                  | Less prone to bias           | Prone to bias                 |\n",
    "| **Representation**        | Usually representative       | May not be representative     |\n",
    "| **Cost and Time**         | Often expensive and time-consuming | Less expensive and faster      |\n",
    "| **Use Case**              | Surveys, large studies       | Exploratory research, pilot studies |\n"
   ]
  },
  {
   "cell_type": "code",
   "execution_count": null,
   "id": "d377c41d-1805-4834-8b89-995071e964c2",
   "metadata": {},
   "outputs": [],
   "source": []
  }
 ],
 "metadata": {
  "kernelspec": {
   "display_name": "Python 3 (ipykernel)",
   "language": "python",
   "name": "python3"
  },
  "language_info": {
   "codemirror_mode": {
    "name": "ipython",
    "version": 3
   },
   "file_extension": ".py",
   "mimetype": "text/x-python",
   "name": "python",
   "nbconvert_exporter": "python",
   "pygments_lexer": "ipython3",
   "version": "3.12.7"
  }
 },
 "nbformat": 4,
 "nbformat_minor": 5
}
