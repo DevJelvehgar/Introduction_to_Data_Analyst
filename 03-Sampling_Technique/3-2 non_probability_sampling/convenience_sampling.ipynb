{
 "cells": [
  {
   "cell_type": "markdown",
   "id": "194b8bb0-e577-4b43-b2d1-8e22757b87ee",
   "metadata": {},
   "source": [
    "## What is Simple Convenience Sampling?\n",
    "Convenience Sampling is a non-probability sampling technique where samples are selected based on their ease of access and availability. It does not involve randomization, and the researcher selects participants that are most convenient to reach.\n",
    "\n",
    "**For example:**<br>\n",
    "A researcher standing outside a store surveying shoppers.<br>\n",
    "Using a readily available dataset instead of collecting new data.<br>\n",
    "It is often used for exploratory research, pilot studies, or when time and resources are limited.\n",
    "\n"
   ]
  },
  {
   "cell_type": "markdown",
   "id": "1859cf26-2571-45bf-a2d8-32832e99f083",
   "metadata": {},
   "source": [
    "#### Advantages of Convenience Sampling\n",
    "1. **Ease of Implementation:**\n",
    "Requires minimal effort, time, and resources to collect data.\n",
    "\n",
    "2. **Cost-Effective:**\n",
    "Reduces costs associated with data collection as it utilizes readily available participants or datasets.\n",
    "\n",
    "3. **Useful for Preliminary Research:**\n",
    "Ideal for generating initial insights or testing hypotheses in early research stages.\n"
   ]
  },
  {
   "cell_type": "markdown",
   "id": "559337ce-0532-4303-9486-f3e9dc06211f",
   "metadata": {},
   "source": [
    "#### Disadvantages of Convenience Sampling\n",
    "1. **High Risk of Bias:**\n",
    "The sample is unlikely to represent the entire population, leading to limited generalizability.\n",
    "2. **Lack of Randomization:**\n",
    "The absence of randomness increases the potential for systematic biases.\n",
    "3. **Cannot Estimate Sampling Error:**\n",
    "No way to calculate how well the sample represents the population."
   ]
  },
  {
   "cell_type": "markdown",
   "id": "af91515d-46a6-454c-9171-cca7bb3ccac1",
   "metadata": {},
   "source": [
    "#### When to Use Convenience Sampling\n",
    "1. **Exploratory Research:**\n",
    "When conducting initial studies to generate ideas or hypotheses.\n",
    "2. **Pilot Studies:**\n",
    "To test research instruments or methodologies before larger studies.\n",
    "3. **Resource Constraints:**\n",
    "When time, budget, or access to a broader population is limited."
   ]
  },
  {
   "cell_type": "markdown",
   "id": "76c3a67b-34b6-4f83-b759-7fa5c7ecaef8",
   "metadata": {},
   "source": [
    "#### Python Code for Convenience Sampling\n",
    "##### Scenario:\n",
    "You have a dataset of customers, and instead of randomly sampling, you select the first 10 customers from a specific region (e.g., \"East\") as your sample."
   ]
  },
  {
   "cell_type": "code",
   "execution_count": 10,
   "id": "c9e91c6e-1071-466c-886a-d8feeefd15a7",
   "metadata": {},
   "outputs": [],
   "source": [
    "from numpy import random as rnd\n",
    "import pandas as pd"
   ]
  },
  {
   "cell_type": "code",
   "execution_count": 26,
   "id": "e35e4e6f-f80d-4507-84d7-c61b6aa0cfda",
   "metadata": {},
   "outputs": [],
   "source": [
    "dataset = pd.DataFrame({\n",
    "    \"ID\" : range(1,101),\n",
    "    \"Region\" : rnd.choice([\"North\", \"East\", \"West\", \"North\"], size=100),\n",
    "    \"Age\" : rnd.randint(18, 60, size=100),\n",
    "    \"SpendingScore\" : rnd.randint(1,100, size=100)\n",
    "})"
   ]
  },
  {
   "cell_type": "code",
   "execution_count": 32,
   "id": "31380037-d8ab-4f85-9f44-929786202ef7",
   "metadata": {},
   "outputs": [],
   "source": [
    "# Filter dataset with Region == East and pick up first 10 customers\n",
    "convenience_sample = dataset[dataset[\"Region\"] == \"East\"].head(10)"
   ]
  },
  {
   "cell_type": "code",
   "execution_count": 34,
   "id": "d7e3002a-640a-4356-892c-5be9aea01381",
   "metadata": {},
   "outputs": [
    {
     "data": {
      "text/html": [
       "<div>\n",
       "<style scoped>\n",
       "    .dataframe tbody tr th:only-of-type {\n",
       "        vertical-align: middle;\n",
       "    }\n",
       "\n",
       "    .dataframe tbody tr th {\n",
       "        vertical-align: top;\n",
       "    }\n",
       "\n",
       "    .dataframe thead th {\n",
       "        text-align: right;\n",
       "    }\n",
       "</style>\n",
       "<table border=\"1\" class=\"dataframe\">\n",
       "  <thead>\n",
       "    <tr style=\"text-align: right;\">\n",
       "      <th></th>\n",
       "      <th>ID</th>\n",
       "      <th>Region</th>\n",
       "      <th>Age</th>\n",
       "      <th>SpendingScore</th>\n",
       "    </tr>\n",
       "  </thead>\n",
       "  <tbody>\n",
       "    <tr>\n",
       "      <th>6</th>\n",
       "      <td>7</td>\n",
       "      <td>East</td>\n",
       "      <td>18</td>\n",
       "      <td>18</td>\n",
       "    </tr>\n",
       "    <tr>\n",
       "      <th>12</th>\n",
       "      <td>13</td>\n",
       "      <td>East</td>\n",
       "      <td>23</td>\n",
       "      <td>82</td>\n",
       "    </tr>\n",
       "    <tr>\n",
       "      <th>14</th>\n",
       "      <td>15</td>\n",
       "      <td>East</td>\n",
       "      <td>21</td>\n",
       "      <td>39</td>\n",
       "    </tr>\n",
       "    <tr>\n",
       "      <th>19</th>\n",
       "      <td>20</td>\n",
       "      <td>East</td>\n",
       "      <td>26</td>\n",
       "      <td>22</td>\n",
       "    </tr>\n",
       "    <tr>\n",
       "      <th>21</th>\n",
       "      <td>22</td>\n",
       "      <td>East</td>\n",
       "      <td>33</td>\n",
       "      <td>70</td>\n",
       "    </tr>\n",
       "    <tr>\n",
       "      <th>24</th>\n",
       "      <td>25</td>\n",
       "      <td>East</td>\n",
       "      <td>22</td>\n",
       "      <td>57</td>\n",
       "    </tr>\n",
       "    <tr>\n",
       "      <th>30</th>\n",
       "      <td>31</td>\n",
       "      <td>East</td>\n",
       "      <td>43</td>\n",
       "      <td>39</td>\n",
       "    </tr>\n",
       "    <tr>\n",
       "      <th>46</th>\n",
       "      <td>47</td>\n",
       "      <td>East</td>\n",
       "      <td>32</td>\n",
       "      <td>82</td>\n",
       "    </tr>\n",
       "    <tr>\n",
       "      <th>48</th>\n",
       "      <td>49</td>\n",
       "      <td>East</td>\n",
       "      <td>23</td>\n",
       "      <td>96</td>\n",
       "    </tr>\n",
       "    <tr>\n",
       "      <th>49</th>\n",
       "      <td>50</td>\n",
       "      <td>East</td>\n",
       "      <td>32</td>\n",
       "      <td>87</td>\n",
       "    </tr>\n",
       "  </tbody>\n",
       "</table>\n",
       "</div>"
      ],
      "text/plain": [
       "    ID Region  Age  SpendingScore\n",
       "6    7   East   18             18\n",
       "12  13   East   23             82\n",
       "14  15   East   21             39\n",
       "19  20   East   26             22\n",
       "21  22   East   33             70\n",
       "24  25   East   22             57\n",
       "30  31   East   43             39\n",
       "46  47   East   32             82\n",
       "48  49   East   23             96\n",
       "49  50   East   32             87"
      ]
     },
     "execution_count": 34,
     "metadata": {},
     "output_type": "execute_result"
    }
   ],
   "source": [
    "convenience_sample"
   ]
  },
  {
   "cell_type": "code",
   "execution_count": null,
   "id": "b10fbf09-a164-4744-8788-50499610cc4f",
   "metadata": {},
   "outputs": [],
   "source": []
  }
 ],
 "metadata": {
  "kernelspec": {
   "display_name": "Python 3 (ipykernel)",
   "language": "python",
   "name": "python3"
  },
  "language_info": {
   "codemirror_mode": {
    "name": "ipython",
    "version": 3
   },
   "file_extension": ".py",
   "mimetype": "text/x-python",
   "name": "python",
   "nbconvert_exporter": "python",
   "pygments_lexer": "ipython3",
   "version": "3.12.7"
  }
 },
 "nbformat": 4,
 "nbformat_minor": 5
}
