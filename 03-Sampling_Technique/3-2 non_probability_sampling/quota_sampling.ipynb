{
 "cells": [
  {
   "cell_type": "markdown",
   "id": "10dac40c-1b9f-49d9-81ec-decc73738483",
   "metadata": {},
   "source": [
    "## What is Quota Sampling?\n",
    "Quota Sampling is a non-probability sampling method in which the researcher ensures that specific subgroups or quotas are represented in the sample. Unlike stratified sampling, quota sampling does not rely on random selection but instead selects participants based on availability until the quota is filled.\n",
    "\n",
    "**For example** <br>\n",
    "if you're conducting a survey and want 50% of your participants to be women and 50% men, you'll keep collecting data from these groups until the quotas are met."
   ]
  },
  {
   "cell_type": "markdown",
   "id": "fb1a5e91-296e-40f2-9b62-c82ec0d99c77",
   "metadata": {},
   "source": [
    "#### Advantages\n",
    "1. **Ensures Representation:**\n",
    "Guarantees that specific subgroups are represented in the sample.\n",
    "2. **Cost and Time Efficient:**\n",
    "Easier and faster than random sampling methods, especially for large populations.\n",
    "3. **Practical:**\n",
    "Useful when probability sampling is not feasible due to time, cost, or accessibility"
   ]
  },
  {
   "cell_type": "markdown",
   "id": "d70ea69a-93d1-4707-9084-15b5cef10d87",
   "metadata": {},
   "source": [
    "#### Disadvantages\n",
    "1. **Bias Risk:**\n",
    "Since participants are chosen based on availability, the sample may not be representative of the population.\n",
    "2. **No Random Selection:**\n",
    "Lacks the randomness that ensures generalizability in probability sampling.\n",
    "3. **Overrepresentation or Underrepresentation:**\n",
    "Quotas might misrepresent groups if the criteria are poorly defined or uneven."
   ]
  },
  {
   "cell_type": "markdown",
   "id": "9e146e45-9f41-427a-9c03-b6df170c75de",
   "metadata": {},
   "source": [
    "#### When to Use Quota Sampling?\n",
    "1. **Market Research:**\n",
    "When specific demographic groups need to be represented, e.g., age groups, income levels, etc.\n",
    "2. **Social Research:**\n",
    "To ensure inclusion of minorities or underrepresented groups.\n",
    "3. **Feasibility Constraints:**\n",
    "When time or budget does not permit probability-based sampling.\n"
   ]
  },
  {
   "cell_type": "markdown",
   "id": "c6377784-7cae-4886-acd3-8131e8fa5351",
   "metadata": {},
   "source": [
    "#### Python Code Example"
   ]
  },
  {
   "cell_type": "code",
   "execution_count": 17,
   "id": "40b1f529-db73-49c3-b796-d30f9f3a58ec",
   "metadata": {},
   "outputs": [
    {
     "data": {
      "text/html": [
       "<div>\n",
       "<style scoped>\n",
       "    .dataframe tbody tr th:only-of-type {\n",
       "        vertical-align: middle;\n",
       "    }\n",
       "\n",
       "    .dataframe tbody tr th {\n",
       "        vertical-align: top;\n",
       "    }\n",
       "\n",
       "    .dataframe thead th {\n",
       "        text-align: right;\n",
       "    }\n",
       "</style>\n",
       "<table border=\"1\" class=\"dataframe\">\n",
       "  <thead>\n",
       "    <tr style=\"text-align: right;\">\n",
       "      <th></th>\n",
       "      <th>Name</th>\n",
       "      <th>Gender</th>\n",
       "      <th>Age_Group</th>\n",
       "    </tr>\n",
       "  </thead>\n",
       "  <tbody>\n",
       "    <tr>\n",
       "      <th>0</th>\n",
       "      <td>Person_1</td>\n",
       "      <td>Male</td>\n",
       "      <td>18-25</td>\n",
       "    </tr>\n",
       "    <tr>\n",
       "      <th>1</th>\n",
       "      <td>Person_2</td>\n",
       "      <td>Male</td>\n",
       "      <td>18-25</td>\n",
       "    </tr>\n",
       "    <tr>\n",
       "      <th>2</th>\n",
       "      <td>Person_3</td>\n",
       "      <td>Male</td>\n",
       "      <td>18-25</td>\n",
       "    </tr>\n",
       "    <tr>\n",
       "      <th>3</th>\n",
       "      <td>Person_4</td>\n",
       "      <td>Male</td>\n",
       "      <td>18-25</td>\n",
       "    </tr>\n",
       "    <tr>\n",
       "      <th>4</th>\n",
       "      <td>Person_5</td>\n",
       "      <td>Male</td>\n",
       "      <td>18-25</td>\n",
       "    </tr>\n",
       "  </tbody>\n",
       "</table>\n",
       "</div>"
      ],
      "text/plain": [
       "       Name Gender Age_Group\n",
       "0  Person_1   Male     18-25\n",
       "1  Person_2   Male     18-25\n",
       "2  Person_3   Male     18-25\n",
       "3  Person_4   Male     18-25\n",
       "4  Person_5   Male     18-25"
      ]
     },
     "execution_count": 17,
     "metadata": {},
     "output_type": "execute_result"
    }
   ],
   "source": [
    "import pandas as pd\n",
    "\n",
    "# Create a sample dataset\n",
    "data = pd.DataFrame({\n",
    "    \"Name\": [f\"Person_{i}\" for i in range(1, 101)],\n",
    "    \"Gender\": [\"Male\"] * 50 + [\"Female\"] * 50,\n",
    "    \"Age_Group\": [\"18-25\"] * 30 + [\"26-35\"] * 30 + [\"36-45\"] * 40\n",
    "})\n",
    "\n",
    "# Display the dataset\n",
    "data.head()"
   ]
  },
  {
   "cell_type": "code",
   "execution_count": 72,
   "id": "179ac6e2-4e6a-4e96-b357-1569371113a3",
   "metadata": {},
   "outputs": [],
   "source": [
    "# write quota\n",
    "gender_quota = {\"Male\" : 15, \"Female\": 20}\n",
    "age_group_quota = {\"18-25\": 10, \"26-35\": 10, \"36-45\": 10}\n",
    "\n",
    "sample_quota = pd.DataFrame() # Create an Empty DataFrame to assign a quota to it\n",
    "\n",
    "# if males pick up 15, if females pick up 20\n",
    "for gender, limitation in gender_quota.items():\n",
    "    sample = data[data[\"Gender\"] == gender].head(limitation)\n",
    "    sample_quota = pd.concat([sample_quota, sample])\n",
    "\n",
    "# use above scenario for range of age\n",
    "for age_group, limitation in age_group_quota.items():\n",
    "    sample = data[data[\"Age_Group\"] == age_group].head(limitation)\n",
    "    sample_quota = pd.concat([sample_quota, sample])\n"
   ]
  },
  {
   "cell_type": "code",
   "execution_count": 76,
   "id": "68559367-785b-4191-b66a-0f9a1764ea92",
   "metadata": {},
   "outputs": [
    {
     "data": {
      "text/plain": [
       "(45, 3)"
      ]
     },
     "execution_count": 76,
     "metadata": {},
     "output_type": "execute_result"
    }
   ],
   "source": [
    "# Drop duplicated quota from the sample quota and reset the index\n",
    "sample_quota = sample_quota.drop_duplicates().reset_index(drop=True)\n",
    "sample_quota.shape"
   ]
  },
  {
   "cell_type": "code",
   "execution_count": 78,
   "id": "f18a5e56-135b-489a-aa54-37ba3f5e713b",
   "metadata": {},
   "outputs": [
    {
     "data": {
      "text/html": [
       "<div>\n",
       "<style scoped>\n",
       "    .dataframe tbody tr th:only-of-type {\n",
       "        vertical-align: middle;\n",
       "    }\n",
       "\n",
       "    .dataframe tbody tr th {\n",
       "        vertical-align: top;\n",
       "    }\n",
       "\n",
       "    .dataframe thead th {\n",
       "        text-align: right;\n",
       "    }\n",
       "</style>\n",
       "<table border=\"1\" class=\"dataframe\">\n",
       "  <thead>\n",
       "    <tr style=\"text-align: right;\">\n",
       "      <th></th>\n",
       "      <th>Name</th>\n",
       "      <th>Gender</th>\n",
       "      <th>Age_Group</th>\n",
       "    </tr>\n",
       "  </thead>\n",
       "  <tbody>\n",
       "    <tr>\n",
       "      <th>0</th>\n",
       "      <td>Person_1</td>\n",
       "      <td>Male</td>\n",
       "      <td>18-25</td>\n",
       "    </tr>\n",
       "    <tr>\n",
       "      <th>1</th>\n",
       "      <td>Person_2</td>\n",
       "      <td>Male</td>\n",
       "      <td>18-25</td>\n",
       "    </tr>\n",
       "    <tr>\n",
       "      <th>2</th>\n",
       "      <td>Person_3</td>\n",
       "      <td>Male</td>\n",
       "      <td>18-25</td>\n",
       "    </tr>\n",
       "    <tr>\n",
       "      <th>3</th>\n",
       "      <td>Person_4</td>\n",
       "      <td>Male</td>\n",
       "      <td>18-25</td>\n",
       "    </tr>\n",
       "    <tr>\n",
       "      <th>4</th>\n",
       "      <td>Person_5</td>\n",
       "      <td>Male</td>\n",
       "      <td>18-25</td>\n",
       "    </tr>\n",
       "  </tbody>\n",
       "</table>\n",
       "</div>"
      ],
      "text/plain": [
       "       Name Gender Age_Group\n",
       "0  Person_1   Male     18-25\n",
       "1  Person_2   Male     18-25\n",
       "2  Person_3   Male     18-25\n",
       "3  Person_4   Male     18-25\n",
       "4  Person_5   Male     18-25"
      ]
     },
     "execution_count": 78,
     "metadata": {},
     "output_type": "execute_result"
    }
   ],
   "source": [
    "sample_quota.head()"
   ]
  },
  {
   "cell_type": "code",
   "execution_count": null,
   "id": "224ca5b0-7403-4d22-b571-4965d9619a06",
   "metadata": {},
   "outputs": [],
   "source": []
  }
 ],
 "metadata": {
  "kernelspec": {
   "display_name": "Python 3 (ipykernel)",
   "language": "python",
   "name": "python3"
  },
  "language_info": {
   "codemirror_mode": {
    "name": "ipython",
    "version": 3
   },
   "file_extension": ".py",
   "mimetype": "text/x-python",
   "name": "python",
   "nbconvert_exporter": "python",
   "pygments_lexer": "ipython3",
   "version": "3.12.7"
  }
 },
 "nbformat": 4,
 "nbformat_minor": 5
}
