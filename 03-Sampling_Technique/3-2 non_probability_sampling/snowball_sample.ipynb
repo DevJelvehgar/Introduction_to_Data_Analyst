{
 "cells": [
  {
   "cell_type": "markdown",
   "id": "7ea0684f-ba4b-4a8f-8fe0-23d234e10efd",
   "metadata": {},
   "source": [
    "## What is Snowball Sampling?\n",
    "Snowball Sampling is a non-probability sampling technique where existing participants recruit future participants for the study. This approach is often used when the population is difficult to access, such as in studies involving hidden or specialized groups.\n",
    "\n",
    "In snowball sampling, the process starts with a small group of initial participants, called **\"seeds\"** who meet the selection criteria. These participants then refer others, creating a **\"snowball\"** effect."
   ]
  },
  {
   "cell_type": "markdown",
   "id": "6ada11fe-48cb-48ea-ab60-26cf8c8bdf6b",
   "metadata": {},
   "source": [
    "#### Advantages of Snowball Sampling\n",
    "1. **Access to Hard-to-Reach Populations:**\n",
    "Useful for studying hidden groups, such as marginalized communities, drug users, or niche professionals.\n",
    "2. **Cost and Time Efficiency:**\n",
    "Participants help identify others, reducing the need for extensive recruitment efforts.\n",
    "3. **Trust Building:**\n",
    "Participants are more likely to trust referrals from people they know.\n",
    "4. **Scalability:**\n",
    "Starts small but can quickly grow to include a large number of participants.\n"
   ]
  },
  {
   "cell_type": "markdown",
   "id": "7a9cbcd0-5e22-499b-bd0f-d1df1a91b6d5",
   "metadata": {},
   "source": [
    "#### Disadvantages of Snowball Sampling\n",
    "1. **Selection Bias:**\n",
    "Participants are not chosen randomly; the sample depends heavily on the initial seeds.\n",
    "2. **Homogeneity:**\n",
    "Referred participants may share similar traits, reducing diversity in the sample.\n",
    "3. **Limited Generalizability:**\n",
    "Results may not be representative of the entire population.\n",
    "4. **Chain Breaks:**\n",
    "If referrals stop, the sampling process can stall."
   ]
  },
  {
   "cell_type": "markdown",
   "id": "d50e7a2d-5d0a-4cde-ba3f-a2a8175bb284",
   "metadata": {},
   "source": [
    "#### When to Use Snowball Sampling\n",
    "1. **Hard-to-Reach or Hidden Populations:**\n",
    "Studies involving sensitive topics or groups that are difficult to access.\n",
    "2. **Social Network Analysis:**\n",
    "When analyzing connections or relationships within a community.\n",
    "3. **Pilot Studies:**\n",
    "When exploring a niche area and identifying potential participants is challenging.\n",
    "4. **Qualitative Research:**\n",
    "For in-depth interviews or case studies involving small, specialized groups."
   ]
  },
  {
   "cell_type": "markdown",
   "id": "8b3e8d2f-8efa-4987-ae6b-5b2bb194d17a",
   "metadata": {},
   "source": [
    "#### Python Code for Snowball Sampling\n",
    "##### Scenario:\n",
    "You start with 3 persons and another person is added to the initial \"seeds\" list, and then can introduce other persons and grow up the \"seeds\" list"
   ]
  },
  {
   "cell_type": "code",
   "execution_count": 427,
   "id": "ca056cbe-aa18-4265-99dd-c8de201d2a07",
   "metadata": {},
   "outputs": [],
   "source": [
    "import pandas as pd\n",
    "# initials data\n",
    "data = pd.DataFrame({\n",
    "    \"Name\": [\"Person_1\",\"Person_2\",\"Person_3\"],\n",
    "    \"ReferredBy\": [None, None, None]\n",
    "})\n",
    "\n",
    "# name of 3 persons that want to be started\n",
    "seeds = data[\"Name\"]"
   ]
  },
  {
   "cell_type": "code",
   "execution_count": 429,
   "id": "14996699-632d-47ec-bd89-03a955ef4af7",
   "metadata": {},
   "outputs": [],
   "source": [
    "for _ in range(2): # 2 iteration\n",
    "    for seed in seeds:\n",
    "        referral = f\"Person_{len(data) + 1}\" # add new name for seeds\n",
    "        data.loc[len(data)] = [referral, rnd.choice(seeds)] # Who introduced referral? Name=referall , ReferredBy=choice from seeds\n",
    "        if referral not in seeds:\n",
    "            seeds.loc[len(seeds)] = referral\n"
   ]
  },
  {
   "cell_type": "code",
   "execution_count": 431,
   "id": "6fff02f1-a035-4f39-93a7-14e87849eb1e",
   "metadata": {},
   "outputs": [
    {
     "data": {
      "text/html": [
       "<div>\n",
       "<style scoped>\n",
       "    .dataframe tbody tr th:only-of-type {\n",
       "        vertical-align: middle;\n",
       "    }\n",
       "\n",
       "    .dataframe tbody tr th {\n",
       "        vertical-align: top;\n",
       "    }\n",
       "\n",
       "    .dataframe thead th {\n",
       "        text-align: right;\n",
       "    }\n",
       "</style>\n",
       "<table border=\"1\" class=\"dataframe\">\n",
       "  <thead>\n",
       "    <tr style=\"text-align: right;\">\n",
       "      <th></th>\n",
       "      <th>Name</th>\n",
       "      <th>ReferredBy</th>\n",
       "    </tr>\n",
       "  </thead>\n",
       "  <tbody>\n",
       "    <tr>\n",
       "      <th>0</th>\n",
       "      <td>Person_1</td>\n",
       "      <td>None</td>\n",
       "    </tr>\n",
       "    <tr>\n",
       "      <th>1</th>\n",
       "      <td>Person_2</td>\n",
       "      <td>None</td>\n",
       "    </tr>\n",
       "    <tr>\n",
       "      <th>2</th>\n",
       "      <td>Person_3</td>\n",
       "      <td>None</td>\n",
       "    </tr>\n",
       "    <tr>\n",
       "      <th>3</th>\n",
       "      <td>Person_4</td>\n",
       "      <td>Person_1</td>\n",
       "    </tr>\n",
       "    <tr>\n",
       "      <th>4</th>\n",
       "      <td>Person_5</td>\n",
       "      <td>Person_3</td>\n",
       "    </tr>\n",
       "    <tr>\n",
       "      <th>5</th>\n",
       "      <td>Person_6</td>\n",
       "      <td>Person_3</td>\n",
       "    </tr>\n",
       "    <tr>\n",
       "      <th>6</th>\n",
       "      <td>Person_7</td>\n",
       "      <td>Person_2</td>\n",
       "    </tr>\n",
       "    <tr>\n",
       "      <th>7</th>\n",
       "      <td>Person_8</td>\n",
       "      <td>Person_4</td>\n",
       "    </tr>\n",
       "    <tr>\n",
       "      <th>8</th>\n",
       "      <td>Person_9</td>\n",
       "      <td>Person_4</td>\n",
       "    </tr>\n",
       "    <tr>\n",
       "      <th>9</th>\n",
       "      <td>Person_10</td>\n",
       "      <td>Person_4</td>\n",
       "    </tr>\n",
       "    <tr>\n",
       "      <th>10</th>\n",
       "      <td>Person_11</td>\n",
       "      <td>Person_6</td>\n",
       "    </tr>\n",
       "    <tr>\n",
       "      <th>11</th>\n",
       "      <td>Person_12</td>\n",
       "      <td>Person_9</td>\n",
       "    </tr>\n",
       "  </tbody>\n",
       "</table>\n",
       "</div>"
      ],
      "text/plain": [
       "         Name ReferredBy\n",
       "0    Person_1       None\n",
       "1    Person_2       None\n",
       "2    Person_3       None\n",
       "3    Person_4   Person_1\n",
       "4    Person_5   Person_3\n",
       "5    Person_6   Person_3\n",
       "6    Person_7   Person_2\n",
       "7    Person_8   Person_4\n",
       "8    Person_9   Person_4\n",
       "9   Person_10   Person_4\n",
       "10  Person_11   Person_6\n",
       "11  Person_12   Person_9"
      ]
     },
     "execution_count": 431,
     "metadata": {},
     "output_type": "execute_result"
    }
   ],
   "source": [
    "data"
   ]
  },
  {
   "cell_type": "code",
   "execution_count": null,
   "id": "ae860d05-47b3-48c0-b03c-f5db015c5060",
   "metadata": {},
   "outputs": [],
   "source": []
  }
 ],
 "metadata": {
  "kernelspec": {
   "display_name": "Python 3 (ipykernel)",
   "language": "python",
   "name": "python3"
  },
  "language_info": {
   "codemirror_mode": {
    "name": "ipython",
    "version": 3
   },
   "file_extension": ".py",
   "mimetype": "text/x-python",
   "name": "python",
   "nbconvert_exporter": "python",
   "pygments_lexer": "ipython3",
   "version": "3.12.7"
  }
 },
 "nbformat": 4,
 "nbformat_minor": 5
}
