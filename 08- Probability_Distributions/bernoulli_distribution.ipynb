{
 "cells": [
  {
   "cell_type": "markdown",
   "id": "153631fd-d7d8-40b2-b732-0d1e43af6666",
   "metadata": {},
   "source": [
    "# **Bernoulli Distribution**\n",
    "\n",
    "The **Bernoulli Distribution** is a discrete probability distribution for a random variable that takes only two possible outcomes: typically labeled as 0 (failure) and 1 (success). It is a special case of the binomial distribution where a single trial (n=1) is performed.\n",
    "\n",
    "### **Formula for Bernoulli Distribution**\n",
    "The probability mass function (PMF) for a Bernoulli random variable \\(X\\) with success probability \\(p\\) (where \\(0 \\leq p \\leq 1\\)) is given by:\n",
    "\n",
    "$$\n",
    "P(X = x) = \n",
    "\\begin{cases}\n",
    "p, & \\text{if } x = 1 \\\\\n",
    "1 - p, & \\text{if } x = 0\n",
    "\\end{cases}\n",
    "$$\n",
    "\n",
    "Where:\n",
    "- (x in {0, 1})\n",
    "- \\(p\\) is the probability of success (getting 1), and \\(1 - p\\) is the probability of failure (getting 0).\n",
    "\n",
    "---\n",
    "\n",
    "### **Advantages of Bernoulli Distribution**\n",
    "1. **Simplicity**: It is easy to understand and use in real-world binary outcomes (yes/no, success/failure).\n",
    "2. **Foundation for Other Distributions**: The Bernoulli distribution is the building block for more complex distributions such as the **Binomial distribution**.\n",
    "3. **Modeling Binary Events**: It is ideal for modeling any scenario where there are two possible outcomes.\n",
    "\n",
    "### **Disadvantages of Bernoulli Distribution**\n",
    "1. **Limited Scope**: It is only applicable when there are exactly two possible outcomes.\n",
    "2. **Independence Assumption**: Assumes that trials are independent, which may not always be realistic.\n",
    "3. **No Modeling for Multiple Categories**: It cannot be used for problems with more than two outcomes.\n",
    "\n",
    "---\n",
    "\n",
    "### **Bernoulli Distribution Properties**\n",
    "1. **PMF**: Already defined as:\n",
    "   $$\n",
    "   P(X = 1) = p, \\quad P(X = 0) = 1 - p\n",
    "   $$\n",
    "\n",
    "2. **Mean**:\n",
    "   The mean of a Bernoulli distribution is simply the probability of success \\(p\\):\n",
    "   $$\n",
    "   \\mu = p\n",
    "   $$\n",
    "\n",
    "3. **Median**:\n",
    "   For a Bernoulli distribution, the median can be either 0 or 1 depending on the value of \\(p\\). If \\(p > 0.5), the median is 1; otherwise, it is 0.\n",
    "\n",
    "4. **Mode**:\n",
    "   The mode is the most likely outcome, which is \\(1\\) if \\(p > 0.5\\) and \\(0\\) if \\(p < 0.5\\).\n",
    "\n",
    "5. **Variance**:\n",
    "   The variance is given by:\n",
    "   $$\n",
    "   \\text{Var}(X) = p(1 - p)\n",
    "   $$\n",
    "\n",
    "6. **Standard Deviation**:\n",
    "   The standard deviation is the square root of the variance:\n",
    "   $$\n",
    "   \\sigma = \\sqrt{p(1 - p)}\n",
    "   $$\n",
    "\n",
    "---\n"
   ]
  },
  {
   "cell_type": "code",
   "execution_count": 17,
   "id": "a8febcf1-8870-4c14-bb45-60326b6ff882",
   "metadata": {},
   "outputs": [
    {
     "name": "stdout",
     "output_type": "stream",
     "text": [
      "PMF for x = 0: 0.30000000000000004\n",
      "PMF for x = 1: 0.7\n",
      "Mean: 0.7\n",
      "Variance: 0.21000000000000002\n",
      "Standard Deviation: 0.45825756949558405\n",
      "Mode: 1\n",
      "Median: 1\n"
     ]
    },
    {
     "data": {
      "image/png": "[encoded data removed]",
      "text/plain": [
       "<Figure size 640x480 with 1 Axes>"
      ]
     },
     "metadata": {},
     "output_type": "display_data"
    }
   ],
   "source": [
    "\n",
    "### **Python Code for Bernoulli Distribution**\n",
    "import numpy as np\n",
    "import matplotlib.pyplot as plt\n",
    "from scipy.stats import bernoulli\n",
    "\n",
    "# Define the probability of success (p)\n",
    "p = 0.7  # Example probability of success (can be any value between 0 and 1)\n",
    "\n",
    "# Create a Bernoulli random variable\n",
    "rv = bernoulli(p)\n",
    "\n",
    "# Calculate the PMF for x = 0 and x = 1\n",
    "x = np.array([0, 1])\n",
    "pmf = rv.pmf(x)\n",
    "\n",
    "# Calculate the Mean, Median, Mode, Variance, and Standard Deviation\n",
    "mean = rv.mean()\n",
    "variance = rv.var()\n",
    "std_dev = rv.std()\n",
    "mode = 1 if p >= 0.5 else 0\n",
    "median = 1 if p >= 0.5 else 0\n",
    "\n",
    "# Display the results\n",
    "print(f\"PMF for x = 0: {pmf[0]}\")\n",
    "print(f\"PMF for x = 1: {pmf[1]}\")\n",
    "print(f\"Mean: {mean}\")\n",
    "print(f\"Variance: {variance}\")\n",
    "print(f\"Standard Deviation: {std_dev}\")\n",
    "print(f\"Mode: {mode}\")\n",
    "print(f\"Median: {median}\")\n",
    "\n",
    "# Plot the PMF\n",
    "plt.bar(x, pmf, color='skyblue', width=0.1, alpha=0.7)\n",
    "plt.title(\"Bernoulli Distribution PMF\")\n",
    "plt.xlabel(\"Outcome\")\n",
    "plt.ylabel(\"Probability\")\n",
    "plt.xticks(x, ['Failure (0)', 'Success (1)'])\n",
    "plt.grid(True)\n",
    "plt.show()\n"
   ]
  },
  {
   "cell_type": "code",
   "execution_count": null,
   "id": "aede0d46-0c2f-443f-9c7b-16576e7a787a",
   "metadata": {},
   "outputs": [],
   "source": []
  }
 ],
 "metadata": {
  "kernelspec": {
   "display_name": "Python 3 (ipykernel)",
   "language": "python",
   "name": "python3"
  },
  "language_info": {
   "codemirror_mode": {
    "name": "ipython",
    "version": 3
   },
   "file_extension": ".py",
   "mimetype": "text/x-python",
   "name": "python",
   "nbconvert_exporter": "python",
   "pygments_lexer": "ipython3",
   "version": "3.12.7"
  }
 },
 "nbformat": 4,
 "nbformat_minor": 5
}
