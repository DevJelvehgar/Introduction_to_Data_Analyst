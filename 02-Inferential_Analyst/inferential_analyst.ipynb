{
 "cells": [
  {
   "cell_type": "markdown",
   "id": "44b76ebe-2719-45ab-9ded-d76b401a0eba",
   "metadata": {},
   "source": [
    "## What is Inferential Statistics?\n",
    "Inferential Statistics involves using a sample of data to draw conclusions or make inferences about a larger population. Instead of examining every member of a population, inferential statistics relies on mathematical techniques to estimate population parameters, test hypotheses, and predict outcomes."
   ]
  },
  {
   "cell_type": "markdown",
   "id": "03d65317-5b0a-48f5-be91-0adc9e997fe4",
   "metadata": {},
   "source": [
    "#### Types of Inferential Statistics\n",
    "1. Estimation:<br>\n",
    "    1.1 Point Estimation: Provides a single value estimate for a population parameter (e.g., sample mean as an estimate of population mean).<br>\n",
    "    1.2 Interval Estimation (Confidence Intervals): Provides a range of values within which the parameter is likely to fall.\n",
    "\n",
    "2. Hypothesis Testing:<br>\n",
    "    Tests assumptions or claims about a population parameter.\n",
    "    Common tests include:<br>\n",
    "    2.1 Z-test: Used for population means when the sample size is large or population variance is known.<br>\n",
    "    2.2 T-test: Used when the sample size is small and variance is unknown.<br>\n",
    "    2.3 Chi-Square Test: For testing relationships between categorical variables.<br>\n",
    "    2.4 ANOVA:** Compares means across multiple groups.<br>\n",
    "\n",
    "3. Regression Analysis:<br>\n",
    "    3.1 Explores relationships between variables.<br>\n",
    "    3.2 Types include linear regression, logistic regression, and multiple regression.<br>\n",
    "\n",
    "\n",
    "4. Correlation:<br>\n",
    "    4.1 Measures the strength and direction of the relationship between two variables.<br>\n"
   ]
  },
  {
   "cell_type": "markdown",
   "id": "665f81bf-7e9e-4383-bd3f-c5dfefdb79dd",
   "metadata": {},
   "source": [
    "#### Advantages and Disadvantages\n",
    "##### Advantages:\n",
    "Generalization: Allows conclusions about a population based on a sample.<br>\n",
    "Efficient: Saves time and resources compared to studying an entire population.<br>\n",
    "Statistical Power: Provides a framework to make predictions and test hypotheses.<br>\n",
    "\n",
    "##### Disadvantages:\n",
    "Sampling Bias: Results depend on the representativeness of the sample.<br>\n",
    "Uncertainty: Involves probabilities, so results are not definitive.<br>\n",
    "Complexity: Requires assumptions that, if violated, can invalidate conclusions.<br>"
   ]
  },
  {
   "cell_type": "markdown",
   "id": "ef36d7ba-b3a8-48ad-a7cb-54e434071e66",
   "metadata": {},
   "source": [
    "#### When to Use Inferential Statistics?\n",
    "To Test Hypotheses: Validate assumptions or claims about populations.\n",
    "For Predictions: Estimate future trends or outcomes.\n",
    "When Studying Large Populations: Drawing conclusions without examining every individual.\n"
   ]
  },
  {
   "cell_type": "code",
   "execution_count": null,
   "id": "72d22944-3181-4a20-86a2-71a68236d212",
   "metadata": {},
   "outputs": [],
   "source": []
  }
 ],
 "metadata": {
  "kernelspec": {
   "display_name": "Python 3 (ipykernel)",
   "language": "python",
   "name": "python3"
  },
  "language_info": {
   "codemirror_mode": {
    "name": "ipython",
    "version": 3
   },
   "file_extension": ".py",
   "mimetype": "text/x-python",
   "name": "python",
   "nbconvert_exporter": "python",
   "pygments_lexer": "ipython3",
   "version": "3.12.7"
  }
 },
 "nbformat": 4,
 "nbformat_minor": 5
}
