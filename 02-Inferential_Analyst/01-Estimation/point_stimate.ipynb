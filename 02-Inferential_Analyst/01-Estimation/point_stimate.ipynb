{
 "cells": [
  {
   "cell_type": "markdown",
   "id": "b92e8f0e-1e8e-4853-92be-8e6ee8c6c06a",
   "metadata": {},
   "source": [
    "### What is Point Estimation in Inferential Statistics?\n",
    "Point Estimation is a method in inferential statistics used to estimate a population parameter (e.g., mean, variance, proportion) using a single value derived from sample data. This estimate is called a point estimate.<be>\n",
    "\n",
    "Point estimation is a crucial step in statistical analysis, but it should often be followed by methods like confidence intervals to better capture the uncertainty in the estimates.<be>\n",
    "\n",
    "For example:\n",
    "The sample mean (xˉ) is a point estimate of the population mean (μ).<br>\n",
    "The sample proportion (𝑝) is a point estimate of the population proportion (π).<br>"
   ]
  },
  {
   "cell_type": "markdown",
   "id": "d32ad683-64d8-4db2-9d99-d9c2a86123bc",
   "metadata": {},
   "source": [
    "##### Advantages of Point Estimation\n",
    "Simplicity: Provides a straightforward and easy-to-understand summary of the population.<br>\n",
    "Efficiency: Requires less computation compared to interval estimation.<br>\n",
    "Foundation for Further Analysis: Often used as a starting point for confidence intervals and hypothesis testing.<br>\n",
    "##### Disadvantages of Point Estimation\n",
    "No Information on Accuracy: It does not account for the uncertainty or variability in the estimate.<br>\n",
    "Sensitive to Outliers: Point estimates can be heavily influenced by anomalies in the sample data.<br>\n",
    "Lack of Range: Provides a single value, so it doesn’t indicate how far the true parameter might deviate.<br>\n",
    "##### When to Use Point Estimation?\n",
    "When a quick, approximate value for a population parameter is required.<br>\n",
    "As a preliminary step before constructing confidence intervals or conducting hypothesis tests.<br>\n",
    "In scenarios where variability or uncertainty isn’t critical to the analysis.<br>\n"
   ]
  },
  {
   "cell_type": "code",
   "execution_count": 4,
   "id": "93e1c9b6-be98-496e-8413-7be442ab6412",
   "metadata": {},
   "outputs": [
    {
     "name": "stdout",
     "output_type": "stream",
     "text": [
      "Sample Mean (Point Estimate for Population Mean): 172.70 cm\n",
      "Sample Variance (Point Estimate for Population Variance): 24.46 cm^2\n",
      "Sample Standard Deviation (Point Estimate for Population Std Dev): 4.95 cm\n"
     ]
    }
   ],
   "source": [
    "import numpy as np\n",
    "\n",
    "# Sample data: Heights in cm of a sample of people\n",
    "sample_heights = [167, 170, 165, 172, 177, 169, 175, 180, 178, 174]\n",
    "\n",
    "# Calculate Point Estimates\n",
    "sample_mean = np.mean(sample_heights)  # Point estimate for population mean\n",
    "sample_variance = np.var(sample_heights, ddof=1)  # Point estimate for population variance\n",
    "sample_std_dev = np.std(sample_heights, ddof=1)  # Point estimate for population standard deviation\n",
    "\n",
    "# Display results\n",
    "print(f\"Sample Mean (Point Estimate for Population Mean): {sample_mean:.2f} cm\")\n",
    "print(f\"Sample Variance (Point Estimate for Population Variance): {sample_variance:.2f} cm^2\")\n",
    "print(f\"Sample Standard Deviation (Point Estimate for Population Std Dev): {sample_std_dev:.2f} cm\")\n"
   ]
  },
  {
   "cell_type": "code",
   "execution_count": null,
   "id": "2a78328c-dcb9-4b61-9495-27f10a1b8769",
   "metadata": {},
   "outputs": [],
   "source": []
  }
 ],
 "metadata": {
  "kernelspec": {
   "display_name": "Python 3 (ipykernel)",
   "language": "python",
   "name": "python3"
  },
  "language_info": {
   "codemirror_mode": {
    "name": "ipython",
    "version": 3
   },
   "file_extension": ".py",
   "mimetype": "text/x-python",
   "name": "python",
   "nbconvert_exporter": "python",
   "pygments_lexer": "ipython3",
   "version": "3.12.7"
  }
 },
 "nbformat": 4,
 "nbformat_minor": 5
}
