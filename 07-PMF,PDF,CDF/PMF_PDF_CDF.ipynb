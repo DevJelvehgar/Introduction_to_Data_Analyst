{
 "cells": [
  {
   "cell_type": "markdown",
   "id": "928357f3-ebe6-4456-9023-021d0de56b34",
   "metadata": {},
   "source": [
    "### **Formulas for PMF, PDF, and CDF**\n",
    "\n",
    "#### **1. Probability Mass Function (PMF)**\n",
    "\n",
    "The PMF is used for **discrete random variables** and provides the probability that the random variable takes a specific value \\(x\\).\n",
    "\n",
    "$$\n",
    "PMF(x) = P(X = x)\n",
    "$$\n",
    "\n",
    "#### Example:\n",
    "For a fair six-sided die:\n",
    "$$\n",
    "PMF(x) = \\frac{1}{6}, \\quad x \\in \\{1, 2, 3, 4, 5, 6\\}\n",
    "$$\n",
    "\n",
    "---\n",
    "\n",
    "#### **2. Probability Density Function (PDF)**\n",
    "\n",
    "The PDF is used for **continuous random variables** and represents the density of probabilities at each point \\(x\\). The actual probability for any single point \\(x\\) is \\(0\\), but the area under the curve over an interval gives the probability.\n",
    "\n",
    "$$\n",
    "PDF(x) = \\frac{d}{dx} \\left[ CDF(x) \\right]\n",
    "$$\n",
    "\n",
    "\n",
    "\n",
    "#### Example for a Normal Distribution:\n",
    "$$\n",
    "PDF(x) = \\frac{1}{\\sqrt{2 \\pi \\sigma^2}} e^{-\\frac{(x - \\mu)^2}{2 \\sigma^2}}\n",
    "$$\n",
    "\n",
    "---\n",
    "\n",
    "#### **3. Cumulative Distribution Function (CDF)**\n",
    "\n",
    "The CDF gives the cumulative probability that a random variable \\(X\\) is less than or equal to a value \\(x\\):\n",
    "\n",
    "$$\n",
    "CDF(x) = P(X \\leq x)\n",
    "$$\n",
    "\n",
    "For a discrete random variable:\n",
    "$$\n",
    "CDF(x) = \\sum_{t \\leq x} PMF(t)\n",
    "$$\n",
    "\n",
    "For a continuous random variable:\n",
    "$$\n",
    "CDF(x) = \\int_{-\\infty}^x PDF(t) \\, dt\n",
    "$$\n"
   ]
  },
  {
   "cell_type": "code",
   "execution_count": null,
   "id": "b3663304-750d-4753-b695-310535c1868e",
   "metadata": {},
   "outputs": [],
   "source": []
  }
 ],
 "metadata": {
  "kernelspec": {
   "display_name": "Python 3 (ipykernel)",
   "language": "python",
   "name": "python3"
  },
  "language_info": {
   "codemirror_mode": {
    "name": "ipython",
    "version": 3
   },
   "file_extension": ".py",
   "mimetype": "text/x-python",
   "name": "python",
   "nbconvert_exporter": "python",
   "pygments_lexer": "ipython3",
   "version": "3.12.7"
  }
 },
 "nbformat": 4,
 "nbformat_minor": 5
}
