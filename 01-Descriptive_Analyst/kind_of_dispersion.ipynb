{
 "cells": [
  {
   "cell_type": "markdown",
   "id": "aa99a4b2-0d58-449b-9346-58e8a6b10577",
   "metadata": {},
   "source": [
    "## Kind of Measure of Dispersion\n",
    "\n",
    "<h2 style=\"color:pink;\"> 1- Absolute Measure</h2> \n",
    "\n",
    "    1.1 Range\n",
    "    1.2 Variance\n",
    "    1.3 Standard Deviation\n",
    "    1.4 Mean Absolute Deviation (MAD)\n",
    "    1.5 Quartile Deviation (Interquartile Range)\n"
   ]
  },
  {
   "cell_type": "markdown",
   "id": "337fa31b-25fa-4fa8-a33e-4c06f03eb0b7",
   "metadata": {},
   "source": [
    "## Statistical Measures\n",
    "\n",
    "### Range\n",
    "$$ Range = \\max(X) - \\min(X) $$\n",
    "\n",
    "### Mean (μ)\n",
    "\n",
    "The **mean** is the average of all data points.\n",
    "\n",
    "$$\n",
    "\\mu = \\frac{1}{N} \\sum_{i=1}^{N} x_i\n",
    "$$\n",
    "\n",
    "### Variance (σ²)\n",
    "\n",
    "**Variance** measures the average squared deviation of each data point from the mean.\n",
    "\n",
    "$$\n",
    "\\sigma^2 = \\frac{1}{N} \\sum_{i=1}^{N} (x_i - \\mu)^2\n",
    "$$\n",
    "\n",
    "### Standard Deviation (σ)\n",
    "\n",
    "**Standard Deviation** is the square root of the variance, representing the average deviation from the mean.\n",
    "\n",
    "$$\n",
    "\\sigma = \\sqrt{\\sigma^2} = \\sqrt{ \\frac{1}{N} \\sum_{i=1}^{N} (x_i - \\mu)^2 }\n",
    "$$\n",
    "\n",
    "### Mean Absolute Deviation (MAD)\n",
    "\n",
    "**Mean Absolute Deviation (MAD)** measures the average absolute deviation from the mean.\n",
    "\n",
    "$$\n",
    "\\text{MAD} = \\frac{1}{N} \\sum_{i=1}^{N} |x_i - \\mu|\n",
    "$$\n",
    "\n",
    "### Quartile Deviation (Interquartile Range, IQR)\n",
    "\n",
    "**Quartile Deviation (Interquartile Range, IQR)** is the difference between the third quartile (Q₃) and the first quartile (Q₁).\n",
    "\n",
    "$$\n",
    "\\text{IQR} = Q_3 - Q_1\n",
    "$$\n",
    "\n",
    "### Definitions:\n",
    "- **Q₁ (First Quartile):** The median of the first half of the data.\n",
    "- **Q₃ (Third Quartile):** The median of the second half of the data.\n",
    "\n"
   ]
  },
  {
   "cell_type": "markdown",
   "id": "7043f643-8467-49a1-aa52-00aa726eb61f",
   "metadata": {},
   "source": [
    "### Advantages of Absolute Measures\n",
    "\n",
    "1. **Simplicity:** Easy to calculate and interpret.\n",
    "2. **Units:** Expressed in the same units as the original data, aiding in direct understanding.\n",
    "3. **Broad Applicability:** Useful in summarizing data within a single dataset.\n"
   ]
  },
  {
   "cell_type": "markdown",
   "id": "a4a796a2-1b70-4938-8480-3c8b079113ec",
   "metadata": {},
   "source": [
    "### Disadvantages of Absolute Measures\n",
    "\n",
    "1. **Not Scalable:** Cannot compare datasets with different units or scales effectively.\n",
    "2. **Sensitivity to Outliers:** Some measures (like range) are highly sensitive to extreme values.\n",
    "3. **Unit Dependency:** The dependence on units makes it less versatile compared to relative measures.\n",
    "This is red text."
   ]
  },
  {
   "cell_type": "markdown",
   "id": "c4a3afc2-df16-4bcd-a648-b2e80c7d52b5",
   "metadata": {},
   "source": [
    "### When to Use Absolute Measures\n",
    "1. When you are working with a single dataset and need to understand its variability in terms of the original units.<br>\n",
    "2. To detect variability or consistency within a dataset.<br>\n",
    "3. In preliminary data analysis to gauge the spread of data.<br>"
   ]
  },
  {
   "cell_type": "markdown",
   "id": "7c890dcb-628f-4f0c-82b1-fee0a74fda69",
   "metadata": {},
   "source": [
    "#### Python Code For Absolute Measure"
   ]
  },
  {
   "cell_type": "code",
   "execution_count": 83,
   "id": "ef6f5512-b507-4999-b443-c38abe6bf5b0",
   "metadata": {},
   "outputs": [
    {
     "data": {
      "text/plain": [
       "[8, 10, 12, 13, 14, 15, 16, 17, 19, 21]"
      ]
     },
     "execution_count": 83,
     "metadata": {},
     "output_type": "execute_result"
    }
   ],
   "source": [
    "import numpy as np\n",
    "\n",
    "# Sample dataset\n",
    "data = [12, 15, 14, 10, 8, 13, 17, 21, 16, 19]\n",
    "data = sorted(data)\n",
    "data"
   ]
  },
  {
   "cell_type": "code",
   "execution_count": 85,
   "id": "fcd9912d-3850-40e9-961b-a066ed8c0254",
   "metadata": {},
   "outputs": [
    {
     "data": {
      "text/plain": [
       "13"
      ]
     },
     "execution_count": 85,
     "metadata": {},
     "output_type": "execute_result"
    }
   ],
   "source": [
    "# 1- Range: max=21 , min=8\n",
    "range_value = np.max(data) - np.min(data)\n",
    "range_value"
   ]
  },
  {
   "cell_type": "code",
   "execution_count": 94,
   "id": "e5798b02-a8d0-4c9d-a9fd-3d34f58f861d",
   "metadata": {},
   "outputs": [
    {
     "data": {
      "text/plain": [
       "14.5"
      ]
     },
     "execution_count": 94,
     "metadata": {},
     "output_type": "execute_result"
    }
   ],
   "source": [
    "# 2- Mean\n",
    "mean_value = np.mean(data)\n",
    "mean_value"
   ]
  },
  {
   "cell_type": "code",
   "execution_count": 96,
   "id": "dcca2628-bc85-48d6-a286-dfbae9a7ce22",
   "metadata": {},
   "outputs": [
    {
     "data": {
      "text/plain": [
       "3.1"
      ]
     },
     "execution_count": 96,
     "metadata": {},
     "output_type": "execute_result"
    }
   ],
   "source": [
    "# 3- Mean Absolute Deviation (MAD)\n",
    "mad = np.mean(np.abs(data - mean_value))\n",
    "mad"
   ]
  },
  {
   "cell_type": "code",
   "execution_count": 109,
   "id": "3985afed-1339-4186-bfcb-118c3f63c7eb",
   "metadata": {},
   "outputs": [
    {
     "data": {
      "text/plain": [
       "14.25"
      ]
     },
     "execution_count": 109,
     "metadata": {},
     "output_type": "execute_result"
    }
   ],
   "source": [
    "# 4- Variance\n",
    "variance = np.var(data)\n",
    "variance"
   ]
  },
  {
   "cell_type": "code",
   "execution_count": 115,
   "id": "18b26dd4-f101-473c-8388-ddabc219e6a1",
   "metadata": {},
   "outputs": [
    {
     "data": {
      "text/plain": [
       "3.774917217635375"
      ]
     },
     "execution_count": 115,
     "metadata": {},
     "output_type": "execute_result"
    }
   ],
   "source": [
    "# 5- Standard Deviation\n",
    "std = np.sqrt(variance)\n",
    "std"
   ]
  },
  {
   "cell_type": "code",
   "execution_count": 117,
   "id": "b7afa013-1750-4894-949e-ba3fd3f5d066",
   "metadata": {},
   "outputs": [
    {
     "data": {
      "text/plain": [
       "4.5"
      ]
     },
     "execution_count": 117,
     "metadata": {},
     "output_type": "execute_result"
    }
   ],
   "source": [
    "# 6- Interquartile Range (IQR)\n",
    "q1 = np.percentile(data, 25)\n",
    "q3 = np.percentile(data, 75)\n",
    "IQR = q3 - q1\n",
    "IQR"
   ]
  },
  {
   "cell_type": "markdown",
   "id": "e6570c7f-04d3-425c-bde2-89b3268644d7",
   "metadata": {},
   "source": [
    "\n",
    "<h2 style=\"color:pink;\"> 2- Relative Measure</h2> \n",
    " The relative measure of dispersion is a statistical metric that quantifies the degree of variability in a dataset relative to a central tendency measure (e.g., mean, median). It allows for comparisons of variability across datasets with different units or scales.\n",
    " \n",
    "    2.1 Coefficient of Variation (CV):\n",
    "    2.2 Relative Range\n",
    "    2.3 Relative Mean Absolute Deviation\n",
    "    2.4 Relative Quartile Deviation\n"
   ]
  },
  {
   "cell_type": "markdown",
   "id": "623543b2-de18-4791-8992-4587b5511c37",
   "metadata": {},
   "source": [
    "## Statistical Measures\n",
    "#### Coefficient of Variation (CV)\n",
    "$$\n",
    "CV = \\frac{\\text{Standard Deviation (}\\sigma\\text{)}}{\\text{Mean (}\\mu\\text{)}} \\times 100\n",
    "$$\n",
    "\n",
    "#### Relative Range\n",
    "$$\n",
    "\\text{Relative Range} = \\frac{\\text{Range}}{\\text{Mean}}\n",
    "$$\n",
    "Where:\n",
    "$$\n",
    "\\text{Range} = \\text{Max} - \\text{Min}\n",
    "$$\n",
    "\n",
    "#### Relative Mean Absolute Deviation\n",
    "$$\n",
    "\\text{Relative Mean Absolute Deviation} = \\frac{\\text{Mean Absolute Deviation (MAD)}}{\\text{Mean}}\n",
    "$$\n",
    "\n",
    "#### Relative Quartile Deviation\n",
    "$$\n",
    "\\text{Relative Quartile Deviation} = \\frac{Q3 - Q1}{Q3 + Q1}\n",
    "$$\n"
   ]
  },
  {
   "cell_type": "markdown",
   "id": "2b1c448a-3cdd-439d-aa61-a5bff2395df8",
   "metadata": {},
   "source": [
    "#### Advantages of Relative Measure of Dispersion\n",
    "1. **Scale-Free Comparison:**\n",
    "Allows comparison of datasets with different units or scales.\n",
    "2. **Interpretability:**\n",
    "Expresses variability as a percentage or proportion, making it easier to understand.\n",
    "3. **Applicability Across Datasets:**\n",
    "Suitable for datasets with different magnitudes or metrics."
   ]
  },
  {
   "cell_type": "markdown",
   "id": "eece5a38-1a50-4324-81f1-c188d34093d1",
   "metadata": {},
   "source": [
    "#### Disadvantages\n",
    "1. **Sensitivity to Outliers:**\n",
    "Measures like CV can be skewed by outliers since the mean is used.\n",
    "2. **Limited by Zero Mean:**\n",
    "The coefficient of variation cannot be used if the mean is zero.\n",
    "3. **Assumption of Homogeneity:**\n",
    "Assumes a uniform distribution, which might not always hold."
   ]
  },
  {
   "cell_type": "markdown",
   "id": "e214edd5-c506-464a-8aa6-61d181afccdd",
   "metadata": {},
   "source": [
    "#### When to Use Relative Measures of Dispersion?\n",
    "1. **Comparative Studies:** To compare the variability between two or more datasets.\n",
    "2. **Normalized Metrics:** When the scale of measurement is different between datasets.\n",
    "3. **Decision Making:** In fields like finance, economics, or quality control to assess risk or variability.\n"
   ]
  },
  {
   "cell_type": "markdown",
   "id": "cfde190a-c5f1-4f0f-a8e1-642257949c96",
   "metadata": {},
   "source": [
    "#### Python Code For Relative Measure"
   ]
  },
  {
   "cell_type": "code",
   "execution_count": 141,
   "id": "1062e9af-4a96-42e0-abd3-455526c0efa9",
   "metadata": {},
   "outputs": [],
   "source": [
    "import numpy as np\n",
    "import pandas as pd\n",
    "\n",
    "# Sample Dataset\n",
    "data = [10, 12, 23, 23, 16, 23, 21, 16, 18, 20]\n"
   ]
  },
  {
   "cell_type": "code",
   "execution_count": 143,
   "id": "98060b57-a64b-4b9c-b73b-ab7b05bd617c",
   "metadata": {},
   "outputs": [],
   "source": [
    "# Central Tendency Measures\n",
    "mean = np.mean(data)\n",
    "std = np.std(data, ddof=1)\n",
    "range_value = np.max(data) - np.min(data)\n",
    "median = np.median(data)\n",
    "q1 = np.percentile(data, 25)\n",
    "q3 = np.percentile(data, 75)"
   ]
  },
  {
   "cell_type": "code",
   "execution_count": 146,
   "id": "28c672af-5a14-4f83-9b20-febe730d5888",
   "metadata": {},
   "outputs": [],
   "source": [
    "# Relative Measure\n",
    "\n",
    "# 1- coefficient of variation\n",
    "coefficient_of_variation = (std / mean) * 100\n",
    "\n",
    "# 2- relative range\n",
    "relative_range = range_value / mean\n",
    "\n",
    "# 3- relative absolute deviation\n",
    "mad = np.mean(np.abs(data - mean_value)) # Mean Absolute Deviation\n",
    "relative_mean_absolute_deviation = mad / mean\n",
    "\n",
    "# 4- relative quartile deviation\n",
    "relative_quartile_deviation = (q3 - q1) / (q3 + q1)"
   ]
  },
  {
   "cell_type": "code",
   "execution_count": 148,
   "id": "d14e2ca3-8fc5-41e1-ab73-8895975cc85a",
   "metadata": {},
   "outputs": [
    {
     "name": "stdout",
     "output_type": "stream",
     "text": [
      "coefficient_of_variation: 25.61\n",
      "relative_range: 0.71\n",
      "relative_mean_absolute_deviation: 0.28\n",
      "relative_quartile_deviation: 0.17\n"
     ]
    }
   ],
   "source": [
    "print(f\"coefficient_of_variation: {coefficient_of_variation:.2f}\")\n",
    "print(f\"relative_range: {relative_range:.2f}\")\n",
    "print(f\"relative_mean_absolute_deviation: {relative_mean_absolute_deviation:.2f}\")\n",
    "print(f\"relative_quartile_deviation: {relative_quartile_deviation:.2f}\")"
   ]
  },
  {
   "cell_type": "code",
   "execution_count": null,
   "id": "60744536-e73b-428f-9dd4-120fa7f0e344",
   "metadata": {},
   "outputs": [],
   "source": []
  }
 ],
 "metadata": {
  "kernelspec": {
   "display_name": "Python 3 (ipykernel)",
   "language": "python",
   "name": "python3"
  },
  "language_info": {
   "codemirror_mode": {
    "name": "ipython",
    "version": 3
   },
   "file_extension": ".py",
   "mimetype": "text/x-python",
   "name": "python",
   "nbconvert_exporter": "python",
   "pygments_lexer": "ipython3",
   "version": "3.12.7"
  }
 },
 "nbformat": 4,
 "nbformat_minor": 5
}
